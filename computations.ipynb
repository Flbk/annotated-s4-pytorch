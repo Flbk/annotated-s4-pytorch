{
 "cells": [
  {
   "cell_type": "code",
   "execution_count": 1,
   "metadata": {},
   "outputs": [],
   "source": [
    "import torch\n",
    "from torch import nn\n",
    "import numpy as np\n",
    "from torch.nn import functional as F\n",
    "import matplotlib.pyplot as plt"
   ]
  },
  {
   "cell_type": "markdown",
   "metadata": {},
   "source": [
    "$$\n",
    "\\newcommand{\\RR}{\\mathbb{R}}\n",
    "\\newcommand{\\ZZ}{\\mathbb{Z}}\n",
    "\\newcommand{\\CC}{\\mathbb{C}}\n",
    "\\newcommand{\\EE}{\\mathbb{E}}\n",
    "\\newcommand{\\Zz}{\\mathcal{Z}}\n",
    "\\newcommand{\\Ww}{\\mathcal{W}}\n",
    "\\newcommand{\\Vv}{\\mathcal{V}}\n",
    "\\newcommand{\\Nn}{\\mathcal{N}}\n",
    "\\newcommand{\\NN}{\\mathcal{N}}\n",
    "\\newcommand{\\Hh}{\\mathcal{H}}\n",
    "\\newcommand{\\Bb}{\\mathcal{B}}\n",
    "\\newcommand{\\Ee}{\\mathcal{E}}\n",
    "\\newcommand{\\Cc}{\\mathcal{C}}\n",
    "\\newcommand{\\Gg}{\\mathcal{G}}\n",
    "\\newcommand{\\Ss}{\\mathcal{S}}\n",
    "\\newcommand{\\Pp}{\\mathcal{P}}\n",
    "\\newcommand{\\Ff}{\\mathcal{F}}\n",
    "\\newcommand{\\Xx}{\\mathcal{X}}\n",
    "\\newcommand{\\Mm}{\\mathcal{M}}\n",
    "\\newcommand{\\Ii}{\\mathcal{I}}\n",
    "\\newcommand{\\Dd}{\\mathcal{D}}\n",
    "\\newcommand{\\Ll}{\\mathcal{L}}\n",
    "\\newcommand{\\Tt}{\\mathcal{T}}\n",
    "\\newcommand{\\al}{\\alpha}\n",
    "\\newcommand{\\la}{\\lambda}\n",
    "\\newcommand{\\ga}{\\gamma}\n",
    "\\newcommand{\\Ga}{\\Gamma}\n",
    "\\newcommand{\\La}{\\Lambda}\n",
    "\\newcommand{\\si}{\\sigma}\n",
    "\\newcommand{\\Si}{\\Sigma}\n",
    "\\newcommand{\\be}{\\beta}\n",
    "\\newcommand{\\de}{\\delta}\n",
    "\\newcommand{\\De}{\\Delta}\n",
    "\\renewcommand{\\phi}{\\varphi}\n",
    "\\renewcommand{\\th}{\\theta}\n",
    "\\newcommand{\\om}{\\omega}\n",
    "\\newcommand{\\Om}{\\Omega}\n",
    "\\newcommand{\\eps}{\\varepsilon}\n",
    "\\newcommand{\\bo}[1]{\\boldsymbol{\\mathbf{#1}}}\n",
    "\\newcommand{\\bu}{\\bo{u}}\n",
    "\\newcommand{\\bv}{\\bo{v}}\n",
    "\\newcommand{\\bV}{\\bo{V}}\n",
    "\\newcommand{\\bC}{\\bo{C}}\n",
    "\\newcommand{\\bp}{\\bo{p}}\n",
    "\\newcommand{\\bq}{\\bo{q}}\n",
    "\\newcommand{\\bX}{\\bo{X}}\n",
    "\\newcommand{\\bc}{\\bo{c}}\n",
    "\\newcommand{\\bb}{\\bo{b}}\n",
    "\\newcommand{\\bh}{\\bo{h}}\n",
    "\\newcommand{\\by}{\\bo{y}}\n",
    "\\newcommand{\\lc}{\\bo{L}(\\bC)}\n",
    "\\newcommand{\\lcb}[1]{\\bo{L}(\\bo{#1})}\n",
    "\\newcommand{\\ba}{\\bo{a}}\n",
    "\\newcommand{\\bbv}{\\bo{b}}\n",
    "\\newcommand{\\tD}{\\bo{\\widetilde{D}}}\n",
    "\\newcommand{\\tLa}{\\bo{\\widetilde{\\La}}}\n",
    "\\newcommand{\\tCbe}{\\bo{\\widetilde{C}^{\\be}}}\n",
    "\\newcommand{\\bbe}{\\bo{\\beta}}\n",
    "\\newcommand{\\Cbe}{\\bC^{\\bbe}}\n",
    "\\newcommand{\\bhat}{\\bo{\\hat{\\be}}}\n",
    "\\newcommand{\\pibe}{\\bpi^{\\bbe}}\n",
    "\\newcommand{\\bD}{\\bo{D}}\n",
    "\\newcommand{\\bZ}{\\bo{Z}}\n",
    "\\newcommand{\\bF}{\\bo{F}}\n",
    "\\newcommand{\\bA}{\\bo{A}}\n",
    "\\newcommand{\\bB}{\\bo{B}}\n",
    "\\newcommand{\\bK}{\\bo{K}}\n",
    "\\newcommand{\\bI}{\\bo{I}}\n",
    "\\newcommand{\\bS}{\\bo{S}}\n",
    "\\newcommand{\\bLa}{\\bo{\\La}}\n",
    "\\newcommand{\\ctilde}{\\bo{\\tilde{c}}}\n",
    "\\newcommand{\\ptilde}{\\bo{\\tilde{p}}}\n",
    "\\newcommand{\\bhatK}{\\bo{\\hat{K}}}\n",
    "\\newcommand{\\bR}{\\bo{R}}\n",
    "\\newcommand{\\bAb}{\\bo{\\bar{A}}}\n",
    "\\newcommand{\\bbb}{\\bo{\\bar{b}}}\n",
    "\\newcommand{\\ut}{u_{<t}}\n",
    "\\newcommand{\\norm}[1]{\\|#1\\|}\n",
    "\\newcommand{\\clint}[1]{\\left[ #1 \\right]}\n",
    "\\newcommand{\\diff}{\\mathop{}\\!\\mathrm{d}}\n",
    "\\newcommand{\\dotp}[1]{\\left\\langle #1 \\right\\rangle}\n",
    "\\newcommand{\\bx}{\\bo{x}}\n",
    "$$\n"
   ]
  },
  {
   "cell_type": "markdown",
   "metadata": {},
   "source": [
    "# S4 in Pytorch.\n",
    "\n",
    "## Introduction\n",
    "\n",
    "This notebook aims at explaining the S4 layer described in [S4](https://arxiv.org/abs/2111.00396), with more details on practical use cases, as well as a simple Pytorch implementation.\n",
    "Some parts of this code are directly coming from the excellent guide [Annotated S4](https://srush.github.io/annotated-s4/).\n",
    "\n",
    "The goal of the notebook is to be as concise as possible while providing enough details for a full comprehension of a practical implementation of S4."
   ]
  },
  {
   "cell_type": "markdown",
   "metadata": {},
   "source": [
    "## Modelisation\n",
    "\n",
    "### Classical approaches\n",
    "\n",
    "Deep NLP has made huge progress since the arrival of the sequence-to-sequence models. A sequence-to-sequence model is a model that maps a sequence $u_0, \\dots, u_{L-1}$ to another sequence $y_0, \\dots, y_{L-1}$.\n",
    "\n",
    "The main approaches in NLP were first RNN, that mimics Hidden Markov Process. In simple terms, a RNN models a situation recursively:\n",
    "\n",
    "\\begin{equation}\n",
    "    \\begin{cases}\n",
    "        h_{k+1} &=& g(u_{k+1}, h_k),\\\\\n",
    "        y_{k+1} &=& f(h_{k+1}).\n",
    "    \\end{cases}\n",
    "\\end{equation}\n",
    "where $h_k$ represents a hidden state. Here each output $y_k$ is built recursively on the precedent value $h_{k-1}$. The main drawbacks of such models is that it is extremely difficult control how the information of previous steps flows up to the current step. It has even been derived that statistically such networks doesn't have long-memory (i.e the output at step $k$ is unlikely to have retained information of $u_{k-l}$if $l$ is large enough).\n",
    "\n",
    "The other and currently SOTA architecture is the transformer.\n",
    "\n",
    "Transformers are extremelly powerful because the output sequence depends directly on *all* the previous steps:\n",
    "\n",
    "\\begin{equation}\n",
    "    y_{k+1} = \\sum_{i=0}^{k} f(u_i, u_{k+1}).\n",
    "\\end{equation}\n",
    "\n",
    "Therefore they do have long-memory. But here the problem comes form the memory consumption of such operation. To process a full sequence the memory complexity is $\\mathcal{O}(L^2)$.\n",
    "\n",
    "### State-space approach\n",
    "\n",
    "To overcome these problems, S4 introduces the formalism of state-space models. Here $u_k \\in \\RR$ is a scalar input.\n",
    "\n",
    "\\begin{equation}\\label{eq:state-space}\n",
    "    \\begin{cases}\n",
    "        x_{k+1} = \\bA x_k + \\bb u_k,\\\\\n",
    "        y_{k+1} = \\bc^T x_{k+1}.\n",
    "    \\end{cases}\n",
    "\\end{equation}\n",
    "where $x_k \\in \\RR^N$ is a vector and obviously $\\bc \\in \\RR^N$. For multidimensionnal inputs, we simply apply these steps (with the same parameters) independently to all coordinates.\n",
    "\n",
    "Let's write a first implementation of such a model."
   ]
  },
  {
   "cell_type": "code",
   "execution_count": 2,
   "metadata": {},
   "outputs": [],
   "source": [
    "class BaseSSM:\n",
    "    def __init__(self, A, b, c):\n",
    "        self.A = A\n",
    "        self.b = b\n",
    "        self.c = c"
   ]
  },
  {
   "cell_type": "code",
   "execution_count": 3,
   "metadata": {},
   "outputs": [],
   "source": [
    "class SimpleSSM(BaseSSM):\n",
    "    def __call__(self, u, L):\n",
    "\n",
    "        y = torch.zeros(L)\n",
    "        x_k = 0\n",
    "        for i in range(L):\n",
    "            x_k += b * u[i]\n",
    "            y_k = self.c.T @ x_k\n",
    "            y[i] = y_k\n",
    "            x_k = self.A @ x_k\n",
    "        return y"
   ]
  },
  {
   "cell_type": "code",
   "execution_count": 4,
   "metadata": {},
   "outputs": [],
   "source": [
    "N = 10\n",
    "L = 5\n",
    "\n",
    "A = torch.randn(N, N)\n",
    "b = torch.rand(N, 1)\n",
    "c = torch.rand(N, 1)"
   ]
  },
  {
   "cell_type": "code",
   "execution_count": 5,
   "metadata": {},
   "outputs": [],
   "source": [
    "simple_ssm = SimpleSSM(A, b, c)"
   ]
  },
  {
   "cell_type": "code",
   "execution_count": 6,
   "metadata": {},
   "outputs": [
    {
     "data": {
      "text/plain": [
       "[<matplotlib.lines.Line2D at 0x7f839d6f6280>]"
      ]
     },
     "execution_count": 6,
     "metadata": {},
     "output_type": "execute_result"
    },
    {
     "data": {
      "image/png": "[encoded data removed]",
      "text/plain": [
       "<Figure size 432x288 with 1 Axes>"
      ]
     },
     "metadata": {
      "needs_background": "light"
     },
     "output_type": "display_data"
    }
   ],
   "source": [
    "seq_interval = torch.arange(L)\n",
    "u = torch.sin(2 * torch.pi * torch.arange(L) / L)\n",
    "plt.plot(u)"
   ]
  },
  {
   "cell_type": "code",
   "execution_count": 7,
   "metadata": {},
   "outputs": [
    {
     "data": {
      "text/plain": [
       "[<matplotlib.lines.Line2D at 0x7f839b58f1c0>]"
      ]
     },
     "execution_count": 7,
     "metadata": {},
     "output_type": "execute_result"
    },
    {
     "data": {
      "image/png": "[encoded data removed]",
      "text/plain": [
       "<Figure size 432x288 with 1 Axes>"
      ]
     },
     "metadata": {
      "needs_background": "light"
     },
     "output_type": "display_data"
    }
   ],
   "source": [
    "y = simple_ssm(u, L)\n",
    "plt.plot(y)"
   ]
  },
  {
   "cell_type": "markdown",
   "metadata": {},
   "source": [
    "## State-space computations\n",
    "\n",
    "Now let's take a step back and remember that our goal is to train a model, whose parameters will include $\\bA, \\bb, \\bc$.\n",
    "\n",
    "However if the formulation of \\eqref{eq:state-space} seems simple, it is in fact quite complicated for training, due do its recursive definition (same problems faced during training of RNN actually).\n",
    "\n",
    "A big advantage of transformers is the possibility to process in parallel the whole sequence, that greatly improves the training speed and the backpropagation of the gradient is more easy than with recursive architectures.\n",
    "\n",
    "Hence a legitimate question is: do we have the same property with S4? And the answer is yes!\n",
    "\n",
    "To explain it, we are now going to focus exclusively on training, i.e when the full input and output are already available. Later, we will explain how we can generate outputs in an autoregressive manner.\n",
    "\n",
    "## Training - Convolution view\n",
    "\n",
    "One can notice that if we unrol \\eqref{eq:state-space}, $y \\in \\RR^L$ can be directly expressed as a convolution between the input $u \\in \\RR^L$ and a filter $\\bK \\in \\RR^L$:\n",
    "\n",
    "\\begin{align}\n",
    "    y_0 &= \\bc^T\\bb u_0,\\\\\n",
    "    y_1 &= \\bc^T\\bA\\bb u_0 + \\bc^T\\bb u_1,\\\\\n",
    "    y_2 &= \\bc^T \\bA^2 \\bb u_0 + \\bc^T\\bA\\bb u_1 + \\bc^T\\bb u_2,\\\\\n",
    "    \\vdots\\\\\n",
    "    y_k &= \\sum_{i=0}^k \\bc^T\\bA^i\\bb u_{k - i}.\n",
    "\\end{align}\n",
    "\n",
    "We have therefore: $y = \\bK * u$, with $\\bK = \\left(\\bc^T \\bb, \\bc^T\\bA\\bb, \\dots, \\bc^T\\bA^{L-1}\\bb\\right)$."
   ]
  },
  {
   "cell_type": "markdown",
   "metadata": {},
   "source": [
    "Good news: a convolution can be computed in $\\mathcal{O}(L \\log L)$ once the filter $\\bK$ is known, using Discrete Fourier Transform (with padding to avoid circular convolution).\n",
    "\n",
    "Compared to the quadratic complexity of transformers, we have a huge gain in term of memory usage.\n",
    "\n",
    "Let's write a first function to see what it gives.\n",
    "\n",
    "*Remark:* In the following code you will see some functions characteristic of hermitian product in a complex vector space. This is because later we will work in $\\CC^N$ instead of $\\RR^N$. For now you can ignore it and just think of `c.H` as `c.T` for the adjoint operator and ignore `c.conj()` (that we use sometimes to compute the adjoint operator indirectly).\n",
    "\n",
    "But sometimes some operations are also needed because of floating points error (like taking the real part after inverse Fourier Transform). When there is ambiguity we will write some comments in the code."
   ]
  },
  {
   "cell_type": "code",
   "execution_count": 8,
   "metadata": {},
   "outputs": [],
   "source": [
    "def kernel_simple(A, b, c, L):\n",
    "    K = [(c.H @ A.matrix_power(l) @ b).item() for l in range(L)]\n",
    "    \n",
    "    # We take the real part because later we will use complex numbers.\n",
    "    # But because K depends only on real values matrices, it should be real (up to floating point error on the imaginary part).\n",
    "    return torch.tensor(K).real\n",
    "\n",
    "def causal_convolution(u, K):\n",
    "    convolution_shape = u.shape[0] + K.shape[0]\n",
    "    \n",
    "    # Specifying the paramter 'n' will automatically pad our vectors to the right dimension.\n",
    "    u_fft = torch.fft.fft(u, n=convolution_shape)\n",
    "    K_fft = torch.fft.fft(K, n=convolution_shape)\n",
    "    out = u_fft * K_fft\n",
    "    return torch.fft.ifft(out).real[: u.shape[0]]"
   ]
  },
  {
   "cell_type": "code",
   "execution_count": 9,
   "metadata": {},
   "outputs": [],
   "source": [
    "class SimpleConvSSM(BaseSSM):\n",
    "    \n",
    "    def __call__(self, u, L):\n",
    "    \n",
    "        K = kernel_simple(self.A, self.b, self.c, L)\n",
    "        y = causal_convolution(u, K)\n",
    "        return y"
   ]
  },
  {
   "cell_type": "code",
   "execution_count": 10,
   "metadata": {},
   "outputs": [],
   "source": [
    "simple_conv_ssm = SimpleConvSSM(A, b, c)\n",
    "y_conv = simple_conv_ssm(u, L)"
   ]
  },
  {
   "cell_type": "code",
   "execution_count": 11,
   "metadata": {},
   "outputs": [],
   "source": [
    "assert torch.allclose(y, y_conv, atol=1e-3)"
   ]
  },
  {
   "cell_type": "markdown",
   "metadata": {},
   "source": [
    "But the main bottleneck of this computation is how we obtain the convolution kernel. We exponentiate a matrix $L$ times, compute a lot of matrix products etc, which is highly non efficient and non stable from a numerical point of view.\n",
    "\n",
    "To make this more efficient, we can find more sophisticated algorithms."
   ]
  },
  {
   "cell_type": "markdown",
   "metadata": {},
   "source": [
    "Namely, instead of computing directly $\\bK$, we are going to compute its DFT, $\\bhatK$ and then simply apply a inverse Fourier Transform (IDFT). Let $\\om_k = \\exp\\left(-{\\dfrac{2i \\pi k}{N}}\\right)$.\n",
    "\n",
    "\\begin{align}\\label{eq:K-spectrum}\n",
    "    \\bhatK_k &= \\sum_{i=0}^{L-1} \\bK_i \\omega_k^i,\\\\\n",
    "    &= \\sum \\bc^T A^i b \\omega_k^i,\\\\\n",
    "    &= \\bc^T \\left(\\sum \\bA^i \\omega_k^i \\right) \\bb,\\\\\n",
    "    &= \\bc^T (\\bI - \\bA^L)(\\bI - \\bA\\omega_k)^{-1} \\bb.\n",
    "\\end{align}"
   ]
  },
  {
   "cell_type": "markdown",
   "metadata": {},
   "source": [
    "But this does not really reduce the complexity, because now we have to compute an inverse $L$ times (for each $\\om_k$), giving a complexity of $\\mathcal{O}(LN^3)$.\n",
    "\n"
   ]
  },
  {
   "cell_type": "markdown",
   "metadata": {},
   "source": [
    "## Discretization and special decomposition\n",
    "\n",
    "TLDR: Instead of directly dealing with the matrices $\\bA$ and $\\bb$ we are going to use slightly modified versions $\\bAb, \\bbb$. This is because of a discretization process.\n",
    "\n",
    "\\begin{equation}\n",
    "    \\begin{cases}\n",
    "        \\bAb &= \\left(\\bI - \\dfrac{1}{2}\\bA \\right)^{-1}\\left(\\bI + \\dfrac{1}{2}\\bA\\right),\\\\\n",
    "        \\bbb &= \\left(\\bI - \\dfrac{1}{2}\\bA \\right)^{-1}\\bb.\n",
    "    \\end{cases}\n",
    "\\end{equation}"
   ]
  },
  {
   "cell_type": "code",
   "execution_count": 12,
   "metadata": {},
   "outputs": [],
   "source": [
    "def discretize(A, b, step=1):\n",
    "    I = torch.eye(A.shape[0])\n",
    "    left_term = torch.linalg.inv(I - (step / 2.0) * A)\n",
    "    A_bar = left_term @ (I + (step / 2.0) * A)\n",
    "    b_bar = (left_term * step) @ b\n",
    "    return A_bar, b_bar"
   ]
  },
  {
   "cell_type": "markdown",
   "metadata": {},
   "source": [
    "We can also assume that $\\bA$ is similar to a matrix of the form $\\bLa - \\bp^* \\bp$, where we now considerate matrix and vectors with coefficients in $\\CC$.\n",
    "Where $\\bLa \\in \\CC^{N \\times N}$ is diagonal and $\\bp \\in \\CC^{N \\times 1}$.\n",
    "$.^*$ designated the hermitian adjoint (= transpose + conjugate) of a matrix (a vector is viewed as a matrix of $\\CC^{N \\times 1}$).\n",
    "This decomposition is called Diagonal Plus Low Rank (DPLR).\n",
    "\n",
    "*Remark:* In the original article the derivations are made with $\\bA \\sim \\bLa + \\bq^* \\bp$. But in practice in S4 we use $-\\bp = \\bq$ which is valid and works better for numerical reasons."
   ]
  },
  {
   "cell_type": "markdown",
   "metadata": {},
   "source": [
    "Indeed, the matrix $A$ we are using can be decomposed in the following form:\n",
    "\\begin{equation}\n",
    "    \\bA = - \\dfrac{1}{2}\\bI - \\bS - \\bp^*\\bp,\n",
    "\\end{equation}\n",
    "where $\\bS$ is a skew-hermitian matrix ($\\bS = - \\bS^*$), and $\\bp \\in \\RR^{N}$ is a vector of dimension 1.\n",
    "\n",
    "And in the adapted basis, the inverse of a DLPR matrix is much more easy to compute, thanks to the Woodburry inversion formula:\n",
    "\n",
    "\\begin{equation}\n",
    "    (\\bLa - \\bp^* \\bq)^{-1} = \\bLa^{-1} + \\bLa^{-1}\\bp \\left(1 - \\bq^*\\bLa^{-1} \\bp\\right)^{-1}\\bq^* \\bLa^{-1}.\n",
    "\\end{equation}"
   ]
  },
  {
   "cell_type": "markdown",
   "metadata": {},
   "source": [
    "If we apply this result to the expression of $\\bhatK$ \\eqref{eq:K-spectrum} using $\\bAb$ and $\\bbb$, with some more algebraic operations, we obtain a quite simple formula for its expression:\n",
    "\n",
    "\\begin{equation}\n",
    "    \\bhatK_k = \\dfrac{2}{1 + \\om_k}\\left[\\ctilde^* \\bR_k \\bb - \\ctilde^* \\bR_k \\bp (1 + \\bp^*\\bR_k \\bp)^{-1}\\bp^*\\bR_k \\bb\\right].\n",
    "\\end{equation}\n",
    "\n",
    "with $\\bR_k = \\left(2\\dfrac{1 - \\om_k}{1 + \\om_k} - \\bLa \\right)^{-1}$ and $\\ctilde^* = \\bc^* (\\bI - \\bAb^L)$.\n",
    "\n",
    "And here, in fact all the matrix multiplications can be evaluated very efficiently.\n"
   ]
  },
  {
   "cell_type": "markdown",
   "metadata": {},
   "source": [
    "\\begin{align}\\label{eq:cauchy-K}\n",
    "   \\ctilde^T \\bR_k \\bb &= \\sum_{i=1}^{N} \\dfrac{\\ctilde_i \\bb_i}{\\om_k - \\bLa_i},\n",
    "\\end{align}\n",
    "\n",
    "and because we want to compute it for all $\\om_k$, the complexity reduces to $\\mathcal{O}(NL)$.\n",
    "In fact, we can be even more efficient, but we need to rely on algorithms that are not yet implemented on Pytorch.\n",
    "But notice that this complexity is not a bottleneck when the biggest memory cost comes from the size of the sequence.\n",
    "\n",
    "Computing operation \\eqref{eq:cauchy-K} for all $k$ is actually a Cauchy product, a well studied problem in the litterature. We are going to implement it in a naive way, but again it won't be the main bottleneck of our model."
   ]
  },
  {
   "cell_type": "code",
   "execution_count": 13,
   "metadata": {},
   "outputs": [],
   "source": [
    "def compute_c_tilde(A, c, L):\n",
    "    return (torch.eye(A.shape[0]) - A.matrix_power(L)).H @ c\n",
    "\n",
    "def cauchy(p, q, Lambd, omega_L):\n",
    "    omega_L = 2. * ((1. - omega_L) / (1 + omega_L))\n",
    "    dot_product = p.conj() * q\n",
    "\n",
    "    Lambd = Lambd[:, None]\n",
    "    omega_L = omega_L[None, :]\n",
    "    cauchy_product = dot_product / (omega_L - Lambd)\n",
    "    return cauchy_product.sum(axis=-2)\n",
    "\n",
    "def kernel_dplr(Lambd, p, b, c_tilde, L):\n",
    "    omega_L = torch.exp((-2j * torch.pi) * torch.arange(L) / L)\n",
    "    term_1 = cauchy(c_tilde, b, Lambd, omega_L)\n",
    "    term_2 = cauchy(c_tilde, p, Lambd, omega_L)\n",
    "    term_3 = 1. / (1. + cauchy(p, p, Lambd, omega_L))\n",
    "    term_4 = cauchy(p, b, Lambd, omega_L)\n",
    "    \n",
    "    K_fft = (2. / (1. + omega_L)) * (term_1 - term_2 * term_3 * term_4) \n",
    "    return torch.fft.ifft(K_fft, L).real\n",
    "\n"
   ]
  },
  {
   "cell_type": "code",
   "execution_count": 14,
   "metadata": {},
   "outputs": [],
   "source": [
    "Lambd = -torch.rand(N) # use negative real parts to get more stability\n",
    "p = torch.randn(N, 1)\n",
    "b = torch.randn(N, 1)\n",
    "c = torch.randn(N, 1)\n",
    "\n",
    "A = torch.diag(Lambd) - p @ p.H\n",
    "\n",
    "A_bar, b_bar = discretize(A, b)\n",
    "\n",
    "\n",
    "c_tilde = compute_c_tilde(A_bar, c, L)\n",
    "    "
   ]
  },
  {
   "cell_type": "code",
   "execution_count": 15,
   "metadata": {},
   "outputs": [],
   "source": [
    "K_dplr = kernel_dplr(Lambd, p, b, c_tilde, L)\n",
    "K_simple = kernel_simple(A_bar, b_bar, c, L)"
   ]
  },
  {
   "cell_type": "code",
   "execution_count": 16,
   "metadata": {},
   "outputs": [],
   "source": [
    "assert torch.allclose(K_simple, K_dplr, atol=1e-4, rtol=1e-4)"
   ]
  },
  {
   "cell_type": "code",
   "execution_count": 17,
   "metadata": {},
   "outputs": [],
   "source": [
    "class EfficientConvSSM(BaseSSM):\n",
    "    def __init__(self, Lambd, p, b, c):\n",
    "        self.Lambd = Lambd\n",
    "        self.p = p\n",
    "        self.b = b\n",
    "        self.c = c\n",
    "        \n",
    "    def __call__(self, u, L):\n",
    "        A = torch.diag(self.Lambd) - p @ p.H\n",
    "        A_bar, _ = discretize(A, self.b)\n",
    "        c_tilde = compute_c_tilde(A_bar, c, L)\n",
    "        K = kernel_dplr(self.Lambd, p, b, c_tilde, L)\n",
    "        y = causal_convolution(u, K)\n",
    "        return y\n",
    "            "
   ]
  },
  {
   "cell_type": "code",
   "execution_count": 18,
   "metadata": {},
   "outputs": [],
   "source": [
    "efficient_conv_ssm = EfficientConvSSM(Lambd, p, b, c)\n",
    "y_efficient_conv = efficient_conv_ssm(u, L)"
   ]
  },
  {
   "cell_type": "code",
   "execution_count": 19,
   "metadata": {},
   "outputs": [],
   "source": [
    "simple_conv_ssm = SimpleConvSSM(A_bar, b_bar, c)\n",
    "y_simple_conv = simple_conv_ssm(u, L)"
   ]
  },
  {
   "cell_type": "code",
   "execution_count": 20,
   "metadata": {},
   "outputs": [],
   "source": [
    "assert torch.allclose(y_efficient_conv, y_simple_conv, atol=1e-4)"
   ]
  },
  {
   "cell_type": "markdown",
   "metadata": {},
   "source": [
    "## Multidimensionnal data\n",
    "\n",
    "Until now we have supposed that our sequence $\\bu$ is 1D. As said earlier, a direct way to generalize everything is to apply all this processing to all dimensions independently.\n",
    "\n",
    "And in addition we are also going to consider a batch dimension."
   ]
  },
  {
   "cell_type": "code",
   "execution_count": 21,
   "metadata": {},
   "outputs": [],
   "source": [
    "class BaseMultiSSM:\n",
    "    def __init__(self, A, b, c):\n",
    "        self.A = A # (H, N, N)\n",
    "        self.b = b # (H, N, 1)\n",
    "        self.c = c # (H, N, 1)\n",
    "        \n",
    "class SimpleMultiConvSSM(BaseMultiSSM):\n",
    "    def __call__(self, u, L):\n",
    "        y = torch.zeros_like(u)\n",
    "        for batch_dim in range(u.shape[0]):\n",
    "            for hidden_dim in range(u.shape[2]):\n",
    "                A_hidden = self.A[hidden_dim]\n",
    "                b_hidden = self.b[hidden_dim]\n",
    "                c_hidden = self.c[hidden_dim]\n",
    "                K = kernel_simple(A, b, c, L)\n",
    "                y[batch_dim, :, hidden_dim] = causal_convolution(u[batch_dim, :, hidden_dim], K)\n",
    "        return y"
   ]
  },
  {
   "cell_type": "markdown",
   "metadata": {},
   "source": [
    "Let's first vectorize the discretization step."
   ]
  },
  {
   "cell_type": "code",
   "execution_count": 22,
   "metadata": {},
   "outputs": [],
   "source": [
    "def discretize_multi(A, b, step=1):\n",
    "    I = torch.eye(A.shape[1])\n",
    "    left_term = torch.linalg.inv(I[None, :, :] - (step / 2.0) * A)\n",
    "    A_bar = left_term @ (I + (step / 2.0) * A)\n",
    "    b_bar = (left_term * step) @ b\n",
    "    return A_bar, b_bar\n",
    "\n",
    "def discretize_multi_simple(A, b, step=1):\n",
    "    A_bar = torch.zeros_like(A)\n",
    "    b_bar = torch.zeros_like(b)\n",
    "    for h in range(A.shape[0]):\n",
    "        A_bar[h], b_bar[h] = discretize(A[h], b[h], step=step)\n",
    "    return A_bar, b_bar\n",
    "        "
   ]
  },
  {
   "cell_type": "code",
   "execution_count": 23,
   "metadata": {},
   "outputs": [],
   "source": [
    "H = 3\n",
    "A = torch.randn(H, N, N)\n",
    "b = torch.randn(H, N, 1)\n",
    "c = torch.randn(H, N, 1)"
   ]
  },
  {
   "cell_type": "code",
   "execution_count": 24,
   "metadata": {},
   "outputs": [],
   "source": [
    "A_bar, b_bar = discretize_multi(A, b)\n",
    "A_bar_simple, b_bar_simple = discretize_multi_simple(A, b)\n",
    "\n",
    "assert torch.allclose(A_bar_simple, A_bar)\n",
    "assert torch.allclose(b_bar, b_bar_simple)"
   ]
  },
  {
   "cell_type": "markdown",
   "metadata": {},
   "source": [
    "Now the kernel generation."
   ]
  },
  {
   "cell_type": "code",
   "execution_count": 25,
   "metadata": {},
   "outputs": [],
   "source": [
    "def compute_c_tilde_multi(A, c, L):\n",
    "    return (torch.eye(A.shape[1])[None, :, :] - A.matrix_power(L)).mH @ c\n",
    "\n",
    "def cauchy_multi(p, q, Lambd, omega_L):\n",
    "    omega_L = 2. * ((1. - omega_L) / (1 + omega_L))\n",
    "    dot_product = p * q\n",
    "\n",
    "    Lambd = Lambd[:, :, None]\n",
    "    omega_L = omega_L[None, None, :]\n",
    "    cauchy_product = dot_product / (omega_L - Lambd)\n",
    "    return cauchy_product.sum(axis=-2)\n",
    "\n",
    "def kernel_dplr_multi(Lambd, p, b, c_tilde, L):\n",
    "    omega_L = torch.exp((-2j * torch.pi) * torch.arange(L) / L)\n",
    "    term_1 = cauchy_multi(b, c_tilde, Lambd, omega_L)\n",
    "    term_2 = cauchy_multi(c_tilde, p, Lambd, omega_L)\n",
    "    term_3 = 1. / (1. + cauchy_multi(p.conj(), p, Lambd, omega_L))\n",
    "    term_4 = cauchy_multi(p.conj(), b, Lambd, omega_L)\n",
    "    \n",
    "    K_fft = (2. / (1. + omega_L[None, :])) * (term_1 - term_2 * term_3 * term_4) \n",
    "    return torch.fft.ifft(K_fft, L).real"
   ]
  },
  {
   "cell_type": "markdown",
   "metadata": {},
   "source": [
    "Let's make a utility function to help us \"vectorize\" our unidimensionnal functions for testing (it just does a for loop but it will help us avoid repeating code)."
   ]
  },
  {
   "cell_type": "code",
   "execution_count": 26,
   "metadata": {},
   "outputs": [],
   "source": [
    "def make_multi(func):\n",
    "    \"\"\"Makes a function handle multi dimensionnal inputs.\n",
    "    This is not optimized and should only be used for testing purposes.\"\"\"\n",
    "    def multi_inputs(*args):\n",
    "        out = []\n",
    "        hidden_dim = args[0].shape[0]\n",
    "\n",
    "        args = list(args)\n",
    "        for i in range(len(args)):\n",
    "            if (not isinstance(args[i], torch.Tensor)) or (args[i].shape[0] != hidden_dim):\n",
    "                args[i] = [args[i] for _ in range(hidden_dim)]\n",
    "\n",
    "        for h in range(hidden_dim):\n",
    "            out.append(func(*[input_tensor[h] for input_tensor in args]).tolist())\n",
    "        return torch.tensor(out)\n",
    "    return multi_inputs"
   ]
  },
  {
   "cell_type": "code",
   "execution_count": 27,
   "metadata": {},
   "outputs": [
    {
     "data": {
      "text/plain": [
       "True"
      ]
     },
     "execution_count": 27,
     "metadata": {},
     "output_type": "execute_result"
    }
   ],
   "source": [
    "isinstance(A, torch.Tensor)"
   ]
  },
  {
   "cell_type": "code",
   "execution_count": 28,
   "metadata": {},
   "outputs": [],
   "source": [
    "c_tilde = compute_c_tilde_multi(A, c, L)\n",
    "\n",
    "compute_c_tilde_multi_simple = make_multi(compute_c_tilde)\n",
    "c_tilde_simple = compute_c_tilde_multi_simple(A, c, L)\n",
    "\n",
    "assert torch.allclose(c_tilde, c_tilde_simple)"
   ]
  },
  {
   "cell_type": "code",
   "execution_count": 29,
   "metadata": {},
   "outputs": [],
   "source": [
    "p = torch.randn(H, N, 1)\n",
    "q = torch.randn(H, N, 1)\n",
    "Lambd = torch.randn(H, N)\n"
   ]
  },
  {
   "cell_type": "code",
   "execution_count": 30,
   "metadata": {},
   "outputs": [],
   "source": [
    "omega_L = torch.exp((-2j * torch.pi) * torch.arange(L) / L)\n",
    "\n",
    "prod = cauchy_multi(p, q, Lambd, omega_L)\n",
    "\n",
    "cauchy_multi_simple = make_multi(cauchy)\n",
    "prod_simple = cauchy_multi_simple(p, q, Lambd, omega_L)\n",
    "\n",
    "assert torch.allclose(prod_simple, prod)"
   ]
  },
  {
   "cell_type": "code",
   "execution_count": 31,
   "metadata": {},
   "outputs": [],
   "source": [
    "p = torch.randn(H, N, 1)\n",
    "b = torch.randn(H, N, 1)\n",
    "c = torch.randn(H, N, 1)\n",
    "Lambd = torch.randn(H, N)\n",
    "\n",
    "K = kernel_dplr_multi(Lambd, p, b, c, L)\n",
    "\n",
    "kernel_dplr_multi_simple = make_multi(kernel_dplr)\n",
    "\n",
    "K_simple = kernel_dplr_multi_simple(Lambd, p, b, c, L)\n",
    "\n",
    "assert torch.allclose(K, K_simple)"
   ]
  },
  {
   "cell_type": "code",
   "execution_count": 32,
   "metadata": {},
   "outputs": [],
   "source": [
    "def causal_convolution_multi(u, K):\n",
    "    fft_shape = u.shape[2] + K.shape[1]\n",
    "    u_fft = torch.fft.fft(u, n=fft_shape, axis=-1)\n",
    "    K_fft = torch.fft.fft(K, n=fft_shape, axis=-1)\n",
    "    out = u_fft * K_fft\n",
    "    return torch.fft.ifft(out, axis=-1)[:, :, :u.shape[2]].real\n",
    "\n",
    "\n",
    "def causal_convolution_multi_simple(u, K):\n",
    "    out = torch.zeros_like(u)\n",
    "    for i in range(u.shape[0]):\n",
    "        for j in range(u.shape[1]):\n",
    "            out[i, j, :] = causal_convolution(u[i, j, :], K[j])\n",
    "    return out\n",
    "\n",
    "\n",
    "def test_convolution_multi(batch_size=8, seq_length=10, hidden_size=5):\n",
    "    u = torch.randn(batch_size, hidden_size, seq_length)\n",
    "    K = torch.randn(hidden_size, seq_length)    \n",
    "    \n",
    "    y_simple = causal_convolution_multi_simple(u, K)\n",
    "    y = causal_convolution_multi(u, K)\n",
    "    assert torch.allclose(y, y_simple)"
   ]
  },
  {
   "cell_type": "code",
   "execution_count": 33,
   "metadata": {},
   "outputs": [],
   "source": [
    "test_convolution_multi()"
   ]
  },
  {
   "cell_type": "markdown",
   "metadata": {},
   "source": [
    "Now we are ready to implement everything in a `nn.Module` class.\n",
    "We have indeed a desribed a valid model whose parameters are $\\bLa, \\bb, \\bp, \\bc$.\n",
    "\n",
    "There is however a last detail on which we should spend some time. Indeed, we are going to initialize $\\bLa, \\bb, \\bp$ with very special values. This is also this initializatin which is going to explain why this S4 model works so well."
   ]
  },
  {
   "cell_type": "markdown",
   "metadata": {},
   "source": [
    "## HiPPO matrix\n",
    "\n",
    "First a bit of context. In the previous section we have introduced a discretized version as well as DPLR decomposition for $\\bA$. But the main contribution of the article is to provide a value of $\\bA$ that will efficiently keep in memory the information on the whole sequence.\n",
    "\n",
    "To do that, let's go back in the continuous domain and consider $u(t)$, $u \\colon \\RR^+ \\to \\RR$ a scalar continuous function. Because we are in the end interesting in autoregressive generation, let's introduce $\\ut = u \\mathbf{1}_{\\clint{0, t}}$. And what the authors propose is to approximate this function on a polynomial basis.\n",
    "\n",
    "For time $t$ we choose an orthogonal polynomial basis $(P_n^t)_{0\\leq n \\leq N-1}\\in \\RR_N[X]$ for the scalar product $\\dotp{u, v} = \\displaystyle\\int_0^t u v \\diff \\lambda$ (typically we orthogonalize the canonical basis).\n",
    "\n",
    "$\\forall n \\in [0..N-1]$ the coefficients $x_n(t)$ of the projection are simply given by:\n",
    "\n",
    "\\begin{equation}\\label{eq:coefs}\n",
    "    x_n(t) = \\displaystyle\\int_0^t u(s) P^t_n(s) \\diff s.\n",
    "\\end{equation}\n",
    "\n",
    "When we differentiate \\eqref{eq:coefs} (see the original paper for the details), we find something that again depends on the $x_1, \\dots, x_N$ and $\\ut$, hence we have an ODE of the form:\n",
    "\n",
    "\\begin{equation}\\label{eq:ode}\n",
    "    \\dfrac{d \\bx}{dt}(t) = \\bA \\bx(s) + u(s)\\bb(s),\n",
    "\\end{equation}\n",
    "with \\textbf{tractable} $\\bA \\in \\RR^{N \\times N}$ and $\\bb \\in \\RR^N$.\n",
    "\n",
    "At each time $t$, $\\bx(t) \\in \\RR^N$ represents the whole function $\\ut$. Hence, the memory property.\n",
    "\n",
    "And it happens that for the Legend polynomial basis, the matrices $\\bA$ and $\\bb$ have a closed form expression:\n",
    "\n",
    "\\begin{array}{rrrl}\n",
    "    \\forall i, j \\in [0..N-1], & \\, \\bA_{ij} & = & -\n",
    "    \\begin{cases}\n",
    "        (2i + 1)^{1/2}(2j + 1)^{1/2} &\\quad \\text{if} \\, i > j,\\\\\n",
    "        i + 1 &\\quad \\text{if} \\, i = j,\\\\\n",
    "        0 &\\quad \\text{if} \\, i < j,\n",
    "    \\end{cases}\\\\\n",
    "    \\forall i \\in [0..N-1], & \\, \\bb_i & = & (2i + 1)^{1/2}.\n",
    "\\end{array}"
   ]
  },
  {
   "cell_type": "code",
   "execution_count": 34,
   "metadata": {},
   "outputs": [],
   "source": [
    "def hippo_matrices(N):\n",
    "    u = torch.arange(N)\n",
    "    b = torch.sqrt(2 * u[:, None] + 1)\n",
    "    A = b @ b.T\n",
    "    A = torch.tril(A, 0)\n",
    "    A = - (A - torch.diag(u))\n",
    "\n",
    "    return A, b"
   ]
  },
  {
   "cell_type": "code",
   "execution_count": 35,
   "metadata": {},
   "outputs": [
    {
     "data": {
      "text/plain": [
       "tensor([[-1.0000, -0.0000, -0.0000, -0.0000],\n",
       "        [-1.7321, -2.0000, -0.0000, -0.0000],\n",
       "        [-2.2361, -3.8730, -3.0000, -0.0000],\n",
       "        [-2.6458, -4.5826, -5.9161, -4.0000]])"
      ]
     },
     "execution_count": 35,
     "metadata": {},
     "output_type": "execute_result"
    }
   ],
   "source": [
    "A, b = hippo_matrices(4)\n",
    "A"
   ]
  },
  {
   "cell_type": "markdown",
   "metadata": {},
   "source": [
    "Note that we notice immediately that if $\\ptilde = \\dfrac{1}{\\sqrt{2}}\\bb$, then:\n",
    "\n",
    "\\begin{align}\n",
    "    \\bA + \\ptilde \\ptilde^t &= -\\begin{cases}\n",
    "        \\dfrac{1}{2}(2i + 1)^{1/2}(2j + 1)^{1/2} &\\quad \\text{if} \\, i > j,\\\\\n",
    "        \\dfrac{1}{2} &\\quad \\text{if} \\, i = j,\\\\\n",
    "        -\\dfrac{1}{2}(2i + 1)^{1/2}(2j + 1)^{1/2} &\\quad \\text{if} \\, i < j,\n",
    "    \\end{cases}\\\\\n",
    "    &= -\\dfrac{1}{2}\\bI - \\bS\n",
    "\\end{align}\n",
    "where $\\bS$ is a skew-symmetric matrix:\n",
    "\n",
    "\\begin{equation}\n",
    "\\bS =\n",
    "\\begin{cases}\n",
    "        \\dfrac{1}{2}(2i + 1)^{1/2}(2j + 1)^{1/2} &\\quad \\text{if} \\, i > j,\\\\\n",
    "        0 &\\quad \\text{if} \\, i = j,\\\\\n",
    "        -\\dfrac{1}{2}(2i + 1)^{1/2}(2j + 1)^{1/2} &\\quad \\text{if} \\, i < j,\n",
    "\\end{cases}\n",
    "\\end{equation}\n",
    "\n",
    "And a skew-symmetric matrix can be diagonalized (in $\\CC$), hence it means that $\\bA$ is similar to a DPLR matrix!\n",
    "\n",
    "\\begin{equation}\n",
    "\\exists \\bV \\in \\mathcal{O}_N(\\CC),\\, \\bA = \\bV \\left( \\bLa - \\bp \\bp^* \\right) \\bV^*,\n",
    "\\end{equation}\n",
    "\n",
    "with $\\bV$ the matrix representing the (complex) eigenvectors of $\\bS$, $\\mathcal{O}_N(\\CC)$ the set of orthogonal matrices of size $N$ in $\\CC$, and $\\bp = \\bV^* \\ptilde$.\n",
    "Note that we should not forget to also change the basis of $\\bb$ when we want to use the special form $\\bA = \\bLa - \\bp \\bp^*$.\n",
    "\n",
    "We now have everything to initialize our parameters:\n",
    "\n",
    "- Create $\\bA, \\bp$ and $\\bb$ with their closed form expressions.\n",
    "- Instead of optimizing $\\bc$ we are going to optimize $\\ctilde$ which is in fact the only part where $\\bc$ is used. It will help reducing the number of operations and especially avoid exponentiating $\\bA$ (this is however a bit incorrect because we are losing the property that the output is real, but we can hope the neural network will learn a 'good' $\\ctilde$ which in the end has this property).\n",
    "- Initialize $\\ctilde$ at random.\n",
    "- Extract $\\bS$ from $\\bA$ and compute its eigenbasis.\n",
    "- Change the basis of $\\bp, \\bb$.\n",
    "- Initialize $\\bD$ at random that we are going to use as a \"skip connection\".\n",
    "\n",
    "From now all our vectors are going to be complex.\n",
    "\n",
    "Let's write that in Python."
   ]
  },
  {
   "cell_type": "code",
   "execution_count": 36,
   "metadata": {},
   "outputs": [],
   "source": [
    "def hippo_matrices_dplr(N):\n",
    "    u = torch.arange(N)[:, None]\n",
    "    \n",
    "    p_tilde = torch.sqrt(u + 0.5)\n",
    "\n",
    "    # Construct S\n",
    "    S = torch.tril(p_tilde @ p_tilde.T)\n",
    "    S = - S + S.T\n",
    "\n",
    "    # A small trick to make a skew-hermitian matrix a hermitian one.\n",
    "    hermitian_S = S * -1j\n",
    "    \n",
    "    # Diagonalize S and extract V.\n",
    "    Lambda, V = torch.linalg.eigh(hermitian_S)\n",
    "\n",
    "\n",
    "    # Mutliplies back the eigenvalues by (1j)^-1 to retrieve the original eigenvalues of the skew-hermitian matrix.\n",
    "    # We have to add the real parts of the eigenvalues, coming for the 1/2*Id part of the decomposition. \n",
    "    Lambda = Lambda * 1j - 0.5\n",
    "    \n",
    "    b = torch.sqrt(2 * u + 1)\n",
    "    \n",
    "    # Change of basis for b and p.\n",
    "    b = V.H @ b.type(torch.complex64)\n",
    "    p = V.H @ p_tilde.type(torch.complex64)\n",
    "    \n",
    "    return V, Lambda, p, b\n",
    "\n"
   ]
  },
  {
   "cell_type": "code",
   "execution_count": 37,
   "metadata": {},
   "outputs": [],
   "source": [
    "V, Lambda, p, b = hippo_matrices_dplr(N)"
   ]
  },
  {
   "cell_type": "markdown",
   "metadata": {},
   "source": [
    "Check if we did not make any mistakes in our change of basis by comparing $\\bA$ obtained from the direct formula and the one obtained through diagonalization:"
   ]
  },
  {
   "cell_type": "code",
   "execution_count": 38,
   "metadata": {},
   "outputs": [],
   "source": [
    "A, b = hippo_matrices(N)\n",
    "\n",
    "assert torch.allclose(V @ (torch.diag(Lambda) - p @ p.H) @ V.H, A.type(torch.complex64), atol=1e-4)"
   ]
  },
  {
   "cell_type": "markdown",
   "metadata": {},
   "source": [
    "Before getting to the full implementation, we are going to explain how we can perform autoregressive decoding.\n",
    "Indeed, when doing a convolution, we assume that the whole input in known. In autoregressive decoding it is not the cae anymore. We therefore have to get back to the basic definition of the state-space system.\n",
    "\n"
   ]
  },
  {
   "cell_type": "markdown",
   "metadata": {},
   "source": [
    "## Recurrent decoding\n",
    "The authors derived a computation of each step in $\\mathcal{O}(N)$ (instead of a naive $\\mathcal{O}(N^2))$, by leveraging the DPLR form of $\\bA$ with single unidimensional inputs, and $\\mathcal{O}(HN)$ with H-dimensional inputs and $N$ the polynomial space dimension."
   ]
  },
  {
   "cell_type": "code",
   "execution_count": 39,
   "metadata": {},
   "outputs": [],
   "source": [
    "def discrete_dplr(Lambda, p, b, c, L, step=1.):\n",
    "    # Convert parameters to matrices\n",
    "    N = Lambda.shape[0]\n",
    "    A = torch.diag(Lambda) - p @ p.H\n",
    "    I = torch.eye(N)\n",
    "\n",
    "    # Forward Euler\n",
    "    A_0 = (2.0 / step) * I + A\n",
    "\n",
    "    # Backward Euler\n",
    "    D = torch.diag(1.0 / ((2.0 / step) - Lambda))\n",
    "    D_p = D @ p\n",
    "    \n",
    "    A_1 = D - (D_p * (1.0 / (1 + (p.H @ D_p))) * p.H @ D)\n",
    "\n",
    "    # A bar and B bar\n",
    "    A_bar = A_1 @ A_0\n",
    "    b_bar = 2 * A_1 @ b\n",
    "\n",
    "    return A_bar, b_bar"
   ]
  },
  {
   "cell_type": "code",
   "execution_count": 40,
   "metadata": {},
   "outputs": [],
   "source": [
    "def scan_ssm(A_bar, b_bar, c_bar, u, x_0):\n",
    "    def step(x_k_1, u_k):\n",
    "        x_k = A_bar @ x_k_1 + b_bar @ u_k\n",
    "        y_k = c_bar @ x_k\n",
    "        return x_k, y_k\n",
    "    recurrence = []\n",
    "    x_k = x_0\n",
    "    for i in range(u.shape[0]):\n",
    "        x_k, y_k = step(x_k, u[i])\n",
    "        recurrence.append(y_k)\n",
    "    return x_k, torch.tensor(recurrence)"
   ]
  },
  {
   "cell_type": "code",
   "execution_count": 41,
   "metadata": {},
   "outputs": [],
   "source": [
    "def test_conversion(N=8, L=16):\n",
    "    V, Lambda, p, b = hippo_matrices_dplr(N)\n",
    "    A = torch.diag(Lambda) - p @ p.H\n",
    "    c_base = torch.randn(N, 1)\n",
    "    c = V.H @ c_base.type(torch.complex64)\n",
    "    A_bar, b_bar = discretize(A, b)\n",
    "    c_tilde = compute_c_tilde(A_bar, c, L)\n",
    "\n",
    "    # CNN form.\n",
    "    K = kernel_dplr(Lambda, p, b, c_tilde, L)\n",
    "\n",
    "    # RNN form.\n",
    "    K_simple = kernel_simple(A_bar, b_bar, c, L=L)\n",
    "\n",
    "    assert np.allclose(K, K_simple, atol=1e-4)\n",
    "\n",
    "    # Apply CNN\n",
    "    u = torch.arange(L).type(torch.complex64)\n",
    "    y1 = causal_convolution(u, K)\n",
    "\n",
    "    # Apply RNN\n",
    "    _, y2 = scan_ssm(\n",
    "        A_bar, b_bar, c.H, u[:, None], torch.zeros((N,)).type(torch.complex64)\n",
    "    )\n",
    "    assert np.allclose(y1, y2.reshape(-1).real, atol=1e-4, rtol=1e-4)"
   ]
  },
  {
   "cell_type": "code",
   "execution_count": 42,
   "metadata": {},
   "outputs": [],
   "source": [
    "test_conversion()"
   ]
  },
  {
   "cell_type": "code",
   "execution_count": 43,
   "metadata": {},
   "outputs": [
    {
     "data": {
      "text/plain": [
       "tensor([0.4075, 1.2344])"
      ]
     },
     "execution_count": 43,
     "metadata": {},
     "output_type": "execute_result"
    }
   ],
   "source": [
    "x = torch.randn(2, 4)\n",
    "torch.diag(x)"
   ]
  },
  {
   "cell_type": "code",
   "execution_count": 47,
   "metadata": {},
   "outputs": [],
   "source": [
    "def discrete_dplr_multi(Lambda, p, b, c, L, step=1.):\n",
    "    # Convert parameters to matrices\n",
    "    N = Lambda.shape[1]\n",
    "    I = torch.eye(N)[None, :, :]\n",
    "    A = Lambd[:, :, None] * I - p @ p.mH\n",
    "    \n",
    "\n",
    "    # Forward Euler\n",
    "    A_0 = (2.0 / step) * I + A\n",
    "\n",
    "    # Backward Euler\n",
    "    D = (1.0 / ((2.0 / step) - Lambda)) * I\n",
    "    D_p = D @ p\n",
    "    \n",
    "    A_1 = D - (D_p * (1.0 / (1 + (p.mH @ D_p))) * p.mH @ D)\n",
    "\n",
    "    # A bar and b bar\n",
    "    A_bar = A_1 @ A_0\n",
    "    b_bar = 2 * A_1 @ b\n",
    "\n",
    "    return A_bar, b_bar"
   ]
  },
  {
   "cell_type": "code",
   "execution_count": 48,
   "metadata": {},
   "outputs": [
    {
     "ename": "RuntimeError",
     "evalue": "size mismatch, got 1, 1x10,1",
     "output_type": "error",
     "traceback": [
      "\u001b[0;31m---------------------------------------------------------------------------\u001b[0m",
      "\u001b[0;31mRuntimeError\u001b[0m                              Traceback (most recent call last)",
      "Input \u001b[0;32mIn [48]\u001b[0m, in \u001b[0;36m<cell line: 13>\u001b[0;34m()\u001b[0m\n\u001b[1;32m      9\u001b[0m A_bar, b_bar \u001b[38;5;241m=\u001b[39m discrete_dplr_multi(Lambda, p, b, c, L)\n\u001b[1;32m     11\u001b[0m discrete_dplr_multi_simple \u001b[38;5;241m=\u001b[39m make_multi(discrete_dplr)\n\u001b[0;32m---> 13\u001b[0m A_bar_simple, b_bar_simple \u001b[38;5;241m=\u001b[39m \u001b[43mdiscrete_dplr_multi_simple\u001b[49m\u001b[43m(\u001b[49m\u001b[43mLambda\u001b[49m\u001b[43m,\u001b[49m\u001b[43m \u001b[49m\u001b[43mp\u001b[49m\u001b[43m,\u001b[49m\u001b[43m \u001b[49m\u001b[43mb\u001b[49m\u001b[43m,\u001b[49m\u001b[43m \u001b[49m\u001b[43mc\u001b[49m\u001b[43m,\u001b[49m\u001b[43m \u001b[49m\u001b[43mL\u001b[49m\u001b[43m)\u001b[49m\n",
      "Input \u001b[0;32mIn [26]\u001b[0m, in \u001b[0;36mmake_multi.<locals>.multi_inputs\u001b[0;34m(*args)\u001b[0m\n\u001b[1;32m     11\u001b[0m         args[i] \u001b[38;5;241m=\u001b[39m [args[i] \u001b[38;5;28;01mfor\u001b[39;00m _ \u001b[38;5;129;01min\u001b[39;00m \u001b[38;5;28mrange\u001b[39m(hidden_dim)]\n\u001b[1;32m     13\u001b[0m \u001b[38;5;28;01mfor\u001b[39;00m h \u001b[38;5;129;01min\u001b[39;00m \u001b[38;5;28mrange\u001b[39m(hidden_dim):\n\u001b[0;32m---> 14\u001b[0m     out\u001b[38;5;241m.\u001b[39mappend(\u001b[43mfunc\u001b[49m\u001b[43m(\u001b[49m\u001b[38;5;241;43m*\u001b[39;49m\u001b[43m[\u001b[49m\u001b[43minput_tensor\u001b[49m\u001b[43m[\u001b[49m\u001b[43mh\u001b[49m\u001b[43m]\u001b[49m\u001b[43m \u001b[49m\u001b[38;5;28;43;01mfor\u001b[39;49;00m\u001b[43m \u001b[49m\u001b[43minput_tensor\u001b[49m\u001b[43m \u001b[49m\u001b[38;5;129;43;01min\u001b[39;49;00m\u001b[43m \u001b[49m\u001b[43margs\u001b[49m\u001b[43m]\u001b[49m\u001b[43m)\u001b[49m\u001b[38;5;241m.\u001b[39mtolist())\n\u001b[1;32m     15\u001b[0m \u001b[38;5;28;01mreturn\u001b[39;00m torch\u001b[38;5;241m.\u001b[39mtensor(out)\n",
      "Input \u001b[0;32mIn [39]\u001b[0m, in \u001b[0;36mdiscrete_dplr\u001b[0;34m(Lambda, p, b, c, L, step)\u001b[0m\n\u001b[1;32m     11\u001b[0m D \u001b[38;5;241m=\u001b[39m torch\u001b[38;5;241m.\u001b[39mdiag(\u001b[38;5;241m1.0\u001b[39m \u001b[38;5;241m/\u001b[39m ((\u001b[38;5;241m2.0\u001b[39m \u001b[38;5;241m/\u001b[39m step) \u001b[38;5;241m-\u001b[39m Lambda))\n\u001b[1;32m     12\u001b[0m D_p \u001b[38;5;241m=\u001b[39m D \u001b[38;5;241m@\u001b[39m p\n\u001b[0;32m---> 14\u001b[0m A_1 \u001b[38;5;241m=\u001b[39m D \u001b[38;5;241m-\u001b[39m (D_p \u001b[38;5;241m*\u001b[39m (\u001b[38;5;241m1.0\u001b[39m \u001b[38;5;241m/\u001b[39m (\u001b[38;5;241m1\u001b[39m \u001b[38;5;241m+\u001b[39m (\u001b[43mp\u001b[49m\u001b[38;5;241;43m.\u001b[39;49m\u001b[43mH\u001b[49m\u001b[43m \u001b[49m\u001b[38;5;241;43m@\u001b[39;49m\u001b[43m \u001b[49m\u001b[43mD_p\u001b[49m))) \u001b[38;5;241m*\u001b[39m p\u001b[38;5;241m.\u001b[39mH \u001b[38;5;241m@\u001b[39m D)\n\u001b[1;32m     16\u001b[0m \u001b[38;5;66;03m# A bar and B bar\u001b[39;00m\n\u001b[1;32m     17\u001b[0m A_bar \u001b[38;5;241m=\u001b[39m A_1 \u001b[38;5;241m@\u001b[39m A_0\n",
      "\u001b[0;31mRuntimeError\u001b[0m: size mismatch, got 1, 1x10,1"
     ]
    }
   ],
   "source": [
    "N = 10\n",
    "L = 10\n",
    "H = 3\n",
    "Lambda = torch.randn(3, N, N)\n",
    "p = torch.randn(3, N, 1)\n",
    "b = torch.randn(3, N, 1)\n",
    "c = torch.randn(3, N, 1)\n",
    "\n",
    "A_bar, b_bar = discrete_dplr_multi(Lambda, p, b, c, L)\n",
    "\n",
    "discrete_dplr_multi_simple = make_multi(discrete_dplr)\n",
    "\n",
    "A_bar_simple, b_bar_simple = discrete_dplr_multi_simple(Lambda, p, b, c, L)"
   ]
  },
  {
   "cell_type": "code",
   "execution_count": null,
   "metadata": {},
   "outputs": [],
   "source": []
  }
 ],
 "metadata": {
  "kernelspec": {
   "display_name": "env-s4",
   "language": "python",
   "name": "env-s4"
  },
  "language_info": {
   "codemirror_mode": {
    "name": "ipython",
    "version": 3
   },
   "file_extension": ".py",
   "mimetype": "text/x-python",
   "name": "python",
   "nbconvert_exporter": "python",
   "pygments_lexer": "ipython3",
   "version": "3.8.10"
  },
  "vscode": {
   "interpreter": {
    "hash": "a263f42c39b2fd75b37cb89946a27f6140cd004b337ff228565a862a637fff96"
   }
  }
 },
 "nbformat": 4,
 "nbformat_minor": 4
}
