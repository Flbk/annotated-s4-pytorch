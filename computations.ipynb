{
 "cells": [
  {
   "cell_type": "code",
   "execution_count": 1,
   "metadata": {},
   "outputs": [],
   "source": [
    "import torch\n",
    "from torch import nn\n",
    "import numpy as np\n",
    "from torch.nn import functional as F\n",
    "import matplotlib.pyplot as plt\n",
    "\n",
    "%load_ext lab_black"
   ]
  },
  {
   "cell_type": "markdown",
   "metadata": {},
   "source": [
    "$$\n",
    "\\newcommand{\\RR}{\\mathbb{R}}\n",
    "\\newcommand{\\ZZ}{\\mathbb{Z}}\n",
    "\\newcommand{\\CC}{\\mathbb{C}}\n",
    "\\newcommand{\\EE}{\\mathbb{E}}\n",
    "\\newcommand{\\Zz}{\\mathcal{Z}}\n",
    "\\newcommand{\\Ww}{\\mathcal{W}}\n",
    "\\newcommand{\\Vv}{\\mathcal{V}}\n",
    "\\newcommand{\\Nn}{\\mathcal{N}}\n",
    "\\newcommand{\\NN}{\\mathcal{N}}\n",
    "\\newcommand{\\Hh}{\\mathcal{H}}\n",
    "\\newcommand{\\Bb}{\\mathcal{B}}\n",
    "\\newcommand{\\Ee}{\\mathcal{E}}\n",
    "\\newcommand{\\Cc}{\\mathcal{C}}\n",
    "\\newcommand{\\Gg}{\\mathcal{G}}\n",
    "\\newcommand{\\Ss}{\\mathcal{S}}\n",
    "\\newcommand{\\Pp}{\\mathcal{P}}\n",
    "\\newcommand{\\Ff}{\\mathcal{F}}\n",
    "\\newcommand{\\Xx}{\\mathcal{X}}\n",
    "\\newcommand{\\Mm}{\\mathcal{M}}\n",
    "\\newcommand{\\Ii}{\\mathcal{I}}\n",
    "\\newcommand{\\Dd}{\\mathcal{D}}\n",
    "\\newcommand{\\Ll}{\\mathcal{L}}\n",
    "\\newcommand{\\Tt}{\\mathcal{T}}\n",
    "\\newcommand{\\al}{\\alpha}\n",
    "\\newcommand{\\la}{\\lambda}\n",
    "\\newcommand{\\ga}{\\gamma}\n",
    "\\newcommand{\\Ga}{\\Gamma}\n",
    "\\newcommand{\\La}{\\Lambda}\n",
    "\\newcommand{\\si}{\\sigma}\n",
    "\\newcommand{\\Si}{\\Sigma}\n",
    "\\newcommand{\\be}{\\beta}\n",
    "\\newcommand{\\de}{\\delta}\n",
    "\\newcommand{\\De}{\\Delta}\n",
    "\\renewcommand{\\phi}{\\varphi}\n",
    "\\renewcommand{\\th}{\\theta}\n",
    "\\newcommand{\\om}{\\omega}\n",
    "\\newcommand{\\Om}{\\Omega}\n",
    "\\newcommand{\\eps}{\\varepsilon}\n",
    "\\newcommand{\\bo}[1]{\\boldsymbol{\\mathbf{#1}}}\n",
    "\\newcommand{\\bu}{\\bo{u}}\n",
    "\\newcommand{\\bv}{\\bo{v}}\n",
    "\\newcommand{\\bV}{\\bo{V}}\n",
    "\\newcommand{\\bC}{\\bo{C}}\n",
    "\\newcommand{\\bp}{\\bo{p}}\n",
    "\\newcommand{\\bq}{\\bo{q}}\n",
    "\\newcommand{\\bX}{\\bo{X}}\n",
    "\\newcommand{\\bc}{\\bo{c}}\n",
    "\\newcommand{\\bb}{\\bo{b}}\n",
    "\\newcommand{\\bh}{\\bo{h}}\n",
    "\\newcommand{\\by}{\\bo{y}}\n",
    "\\newcommand{\\lc}{\\bo{L}(\\bC)}\n",
    "\\newcommand{\\lcb}[1]{\\bo{L}(\\bo{#1})}\n",
    "\\newcommand{\\ba}{\\bo{a}}\n",
    "\\newcommand{\\bbv}{\\bo{b}}\n",
    "\\newcommand{\\tD}{\\bo{\\widetilde{D}}}\n",
    "\\newcommand{\\tLa}{\\bo{\\widetilde{\\La}}}\n",
    "\\newcommand{\\tCbe}{\\bo{\\widetilde{C}^{\\be}}}\n",
    "\\newcommand{\\bbe}{\\bo{\\beta}}\n",
    "\\newcommand{\\Cbe}{\\bC^{\\bbe}}\n",
    "\\newcommand{\\bhat}{\\bo{\\hat{\\be}}}\n",
    "\\newcommand{\\pibe}{\\bpi^{\\bbe}}\n",
    "\\newcommand{\\bD}{\\bo{D}}\n",
    "\\newcommand{\\bZ}{\\bo{Z}}\n",
    "\\newcommand{\\bF}{\\bo{F}}\n",
    "\\newcommand{\\bA}{\\bo{A}}\n",
    "\\newcommand{\\bB}{\\bo{B}}\n",
    "\\newcommand{\\bK}{\\bo{K}}\n",
    "\\newcommand{\\bI}{\\bo{I}}\n",
    "\\newcommand{\\bS}{\\bo{S}}\n",
    "\\newcommand{\\bLa}{\\bo{\\La}}\n",
    "\\newcommand{\\ctilde}{\\bo{\\tilde{c}}}\n",
    "\\newcommand{\\ptilde}{\\bo{\\tilde{p}}}\n",
    "\\newcommand{\\bhatK}{\\bo{\\hat{K}}}\n",
    "\\newcommand{\\bR}{\\bo{R}}\n",
    "\\newcommand{\\bAb}{\\bo{\\bar{A}}}\n",
    "\\newcommand{\\bbb}{\\bo{\\bar{b}}}\n",
    "\\newcommand{\\ut}{u_{<t}}\n",
    "\\newcommand{\\norm}[1]{\\|#1\\|}\n",
    "\\newcommand{\\clint}[1]{\\left[ #1 \\right]}\n",
    "\\newcommand{\\diff}{\\mathop{}\\!\\mathrm{d}}\n",
    "\\newcommand{\\dotp}[1]{\\left\\langle #1 \\right\\rangle}\n",
    "\\newcommand{\\bx}{\\bo{x}}\n",
    "$$\n"
   ]
  },
  {
   "cell_type": "markdown",
   "metadata": {},
   "source": [
    "# S4 in Pytorch.\n",
    "\n",
    "# Introduction\n",
    "\n",
    "This notebook aims at explaining the S4 layer described in [S4](https://arxiv.org/abs/2111.00396), with more details on practical use cases, as well as a simple Pytorch implementation.\n",
    "Some parts of this code are directly coming from the excellent guide [Annotated S4](https://srush.github.io/annotated-s4/).\n",
    "\n",
    "The goal of the notebook is to be as concise as possible while providing enough details for a full comprehension of a practical implementation of S4 in Pytorch.\n",
    "\n",
    "# Incoming\n",
    "\n",
    "Note that the goal of this notebook is illustrative. We are soon going to release more efficient codes (in full Pytorch) that can handle real sized data. Stay tuned!"
   ]
  },
  {
   "cell_type": "markdown",
   "metadata": {},
   "source": [
    "# Modelisation\n",
    "\n",
    "## Classical approaches\n",
    "\n",
    "Deep NLP has made huge progress since the arrival of the sequence-to-sequence models. A sequence-to-sequence model is a model that maps a sequence $u_0, \\dots, u_{L-1}$ to another sequence $y_0, \\dots, y_{L-1}$.\n",
    "\n",
    "The main approaches in NLP were first RNN, that mimics Hidden Markov Process. In simple terms, a RNN models a situation recursively:\n",
    "\n",
    "\\begin{equation}\n",
    "    \\begin{cases}\n",
    "        h_{k+1} &=& g(u_{k+1}, h_k),\\\\\n",
    "        y_{k+1} &=& f(h_{k+1}).\n",
    "    \\end{cases}\n",
    "\\end{equation}\n",
    "where $h_k$ represents a hidden state. Here each output $y_k$ is built recursively on the precedent value $h_{k-1}$. The main drawbacks of such models is that it is extremely difficult control how the information of previous steps flows up to the current step. It has even been derived that statistically such networks doesn't have long-memory (i.e the output at step $k$ is unlikely to have retained information of $u_{k-l}$if $l$ is large enough).\n",
    "\n",
    "The other and currently SOTA architecture is the transformer.\n",
    "\n",
    "Transformers are extremelly powerful because the output sequence depends directly on *all* the previous steps:\n",
    "\n",
    "\\begin{equation}\n",
    "    y_{k+1} = \\sum_{i=0}^{k} f(u_i, u_{k+1}).\n",
    "\\end{equation}\n",
    "\n",
    "Therefore they do have long-memory. But here the problem comes form the memory consumption of such operation. To process a full sequence the memory complexity is $\\mathcal{O}(L^2)$.\n",
    "\n",
    "## State-space approach\n",
    "\n",
    "To overcome these problems, S4 introduces the formalism of state-space models. Here $u_k \\in \\RR$ is a scalar input.\n",
    "\n",
    "\\begin{equation}\\label{eq:state-space}\n",
    "    \\begin{cases}\n",
    "        x_{k+1} = \\bA x_k + \\bb u_{k+1},\\\\\n",
    "        y_{k+1} = \\bc^T x_{k+1}.\n",
    "    \\end{cases}\n",
    "\\end{equation}\n",
    "where $x_k \\in \\RR^N$ is a vector and obviously $\\bc \\in \\RR^N$. For multidimensionnal inputs, we simply apply these steps (with the same parameters) independently to all coordinates.\n",
    "\n",
    "Let's write a first implementation of such a model."
   ]
  },
  {
   "cell_type": "markdown",
   "metadata": {
    "tags": []
   },
   "source": [
    "## Naive SSM implementation"
   ]
  },
  {
   "cell_type": "code",
   "execution_count": 2,
   "metadata": {},
   "outputs": [],
   "source": [
    "class BaseSSM:\n",
    "    \"\"\"Abstract base class for state-space model in Python.\"\"\"\n",
    "\n",
    "    def __init__(self, A, b, c):\n",
    "        self.A = A\n",
    "        self.b = b\n",
    "        self.c = c"
   ]
  },
  {
   "cell_type": "code",
   "execution_count": 3,
   "metadata": {},
   "outputs": [],
   "source": [
    "class SimpleSSM(BaseSSM):\n",
    "    \"\"\"Simple state space model with recurrent computations.\"\"\"\n",
    "\n",
    "    def __call__(self, u, L):\n",
    "        \"\"\"x_k = A x{k-1} + b u_{k+1}\"\"\"\n",
    "        y = torch.zeros(L)\n",
    "        x_k = torch.zeros((self.A.shape[0], 1))\n",
    "        for i in range(L):\n",
    "            x_k = self.A @ x_k + b * u[i]\n",
    "\n",
    "            # Compute the output y[k]\n",
    "            y_k = self.c.T @ x_k\n",
    "            y[i] = y_k\n",
    "        return y"
   ]
  },
  {
   "cell_type": "code",
   "execution_count": 4,
   "metadata": {},
   "outputs": [],
   "source": [
    "N = 10\n",
    "L = 5\n",
    "\n",
    "A = torch.randn(N, N)\n",
    "b = torch.rand(N, 1)\n",
    "c = torch.rand(N, 1)"
   ]
  },
  {
   "cell_type": "code",
   "execution_count": 5,
   "metadata": {},
   "outputs": [],
   "source": [
    "simple_ssm = SimpleSSM(A, b, c)"
   ]
  },
  {
   "cell_type": "code",
   "execution_count": 6,
   "metadata": {},
   "outputs": [
    {
     "data": {
      "text/plain": [
       "[<matplotlib.lines.Line2D at 0x7f18625b18d0>]"
      ]
     },
     "execution_count": 6,
     "metadata": {},
     "output_type": "execute_result"
    },
    {
     "data": {
      "image/png": "[encoded data removed]",
      "text/plain": [
       "<Figure size 432x288 with 1 Axes>"
      ]
     },
     "metadata": {
      "needs_background": "light"
     },
     "output_type": "display_data"
    }
   ],
   "source": [
    "seq_interval = torch.arange(L)\n",
    "u = torch.sin(2 * torch.pi * torch.arange(L) / L)\n",
    "plt.plot(u)"
   ]
  },
  {
   "cell_type": "code",
   "execution_count": 7,
   "metadata": {},
   "outputs": [
    {
     "data": {
      "text/plain": [
       "[<matplotlib.lines.Line2D at 0x7f18602e1a20>]"
      ]
     },
     "execution_count": 7,
     "metadata": {},
     "output_type": "execute_result"
    },
    {
     "data": {
      "image/png": "[encoded data removed]",
      "text/plain": [
       "<Figure size 432x288 with 1 Axes>"
      ]
     },
     "metadata": {
      "needs_background": "light"
     },
     "output_type": "display_data"
    }
   ],
   "source": [
    "y = simple_ssm(u, L)\n",
    "plt.plot(y)"
   ]
  },
  {
   "cell_type": "markdown",
   "metadata": {},
   "source": [
    "# State-space computations\n",
    "\n",
    "Now let's take a step back and remember that our goal is to train a model, whose parameters will include $\\bA, \\bb, \\bc$.\n",
    "\n",
    "However if the formulation of \\eqref{eq:state-space} seems simple, it is in fact quite complicated for training, due do its recursive definition (same problems faced during training of RNN actually).\n",
    "\n",
    "A big advantage of transformers is the possibility to process in parallel the whole sequence, that greatly improves the training speed and the backpropagation of the gradient is more easy than with recursive architectures.\n",
    "\n",
    "Hence a legitimate question is: do we have the same property with S4? And the answer is yes!\n",
    "\n",
    "And for autoregressive inference, we can simply apply the recurrent expression.\n",
    "\n",
    "\n",
    "## Training - Convolution view\n",
    "\n",
    "For the convolution view, we are now going to focus exclusively on training, i.e when the full input and output are already available.\n",
    "\n",
    "One can notice that if we unrol \\eqref{eq:state-space}, $y \\in \\RR^L$ can be directly expressed as a convolution between the input $u \\in \\RR^L$ and a filter $\\bK \\in \\RR^L$:\n",
    "\n",
    "\\begin{align}\n",
    "    y_0 &= \\bc^T\\bb u_0,\\\\\n",
    "    y_1 &= \\bc^T\\bA\\bb u_0 + \\bc^T\\bb u_1,\\\\\n",
    "    y_2 &= \\bc^T \\bA^2 \\bb u_0 + \\bc^T\\bA\\bb u_1 + \\bc^T\\bb u_2,\\\\\n",
    "    \\vdots\\\\\n",
    "    y_k &= \\sum_{i=0}^k \\bc^T\\bA^i\\bb u_{k - i}.\n",
    "\\end{align}\n",
    "\n",
    "We have therefore: $y = \\bK * u$, with $\\bK = \\left(\\bc^T \\bb, \\bc^T\\bA\\bb, \\dots, \\bc^T\\bA^{L-1}\\bb\\right)$.\n",
    "\n",
    "## Inference - Recurrent decoding\n",
    "\n",
    "At inference we cannot always use the same computation, especially in the autoregressive setup. In this case we have to get back to the naive recurrent definition of an SSM. However, we will see later that it is possible to make it more efficient.\n"
   ]
  },
  {
   "cell_type": "markdown",
   "metadata": {},
   "source": [
    "# Implementations and details on the convolution view\n",
    "\n",
    "In this section we are going to provide fully working and tested Pytorch implementation of the convolution formulation. Remember that here the full input is available.\n",
    "\n",
    "Let's begin with a good news: a convolution can be computed in $\\mathcal{O}(L \\log L)$ once the filter $\\bK$ is known, using Discrete Fourier Transform.\n",
    "\n",
    "Compared to the quadratic complexity of transformers, we have a huge gain in term of memory usage.\n",
    "\n",
    "Let's write a first function to see what it gives.\n",
    "\n",
    "*Remark:* In the following code you will see some functions characteristic of hermitian product in a complex vector space. This is because later we will work in $\\CC^N$ instead of $\\RR^N$. For now you can ignore it and just think of `c.H` as `c.T` for the adjoint operator and ignore `c.conj()` (that we use sometimes to compute the adjoint operator indirectly).\n",
    "\n",
    "But sometimes some operations are also needed because of floating points error (like taking the real part after inverse Fourier Transform). When there is ambiguity we will write some comments in the code."
   ]
  },
  {
   "cell_type": "markdown",
   "metadata": {},
   "source": [
    "## Convolution with DFT"
   ]
  },
  {
   "cell_type": "markdown",
   "metadata": {},
   "source": [
    "### Reminders on convolutions\n",
    "Before going into the implementations, just a quick recap on discrete convolutions with Fourier Transform.\n",
    "\n",
    "Let $u \\in \\RR^{L}$ and $v \\in \\RR^{L}$. We consider the \"periodized\" version of $v$, $\\tilde{v}$ such that $\\tilde{v}: \\ZZ \\to \\RR$ and $\\forall n \\in \\ZZ, \\ \\tilde{v}[n] = v[n \\mod L]$.\n",
    "\n",
    "The discrete *circular* convolution between $u$ and $v$ is defined as:\n",
    "\\begin{equation}\\label{eq:circular-conv}\n",
    "    \\forall k \\in [0..L-1], \\ (u \\circledast v)[k] = \\sum_{i=0}^{L-1} u[i] \\tilde{v}[k - i].\n",
    "\\end{equation}\n",
    "\n",
    "And the convolution theorem states that (the derivation consists only on permuting the $\\sum$ symbols):\n",
    "\n",
    "\\begin{equation}\n",
    "    u \\circledast v = \\mathcal{F}^{-1} \\left(\\hat{u} \\odot \\hat{v}\\right),\n",
    "\\end{equation}\n",
    "\n",
    "where $\\hat{.}$ designates the DFT of a sequence and $\\odot$ designates the elementwise multiplication (we consider indeed $\\hat{u}$ and the others sequences as vectors of $\\RR^L$.).\n",
    "\n",
    "### The necessity of zero-padding\n",
    "\n",
    "Ok, now that we know how to compute the *circular* convolution, how do we compute something like we have earlier, i.e:\n",
    "\n",
    "$(u * v)[k] = \\sum_{i=0}^{k} u[i]v[k - i]$ ?\n",
    "\n",
    "A very famous trick is simply to pad $u$ and $v$ with $L$ zeros *before* taking their DFT. Indeed, replace $u$ and $v$ with their padded version (hence vectos of $\\RR^{2L}$) in \\eqref{eq:circular-convolution} and you'll see immediately that it coincides with the *non-circular* convolution."
   ]
  },
  {
   "cell_type": "code",
   "execution_count": 8,
   "metadata": {},
   "outputs": [],
   "source": [
    "def causal_convolution(u, K):\n",
    "    convolution_shape = u.shape[0] + K.shape[0]\n",
    "\n",
    "    # Specifying the paramter 'n' will automatically pad our vectors to the right dimension.\n",
    "    u_fft = torch.fft.fft(u, n=convolution_shape)\n",
    "    K_fft = torch.fft.fft(K, n=convolution_shape)\n",
    "    out = u_fft * K_fft\n",
    "\n",
    "    # This will give complex outputs.\n",
    "    return torch.fft.ifft(out)[: u.shape[0]]"
   ]
  },
  {
   "cell_type": "markdown",
   "metadata": {},
   "source": [
    "## Naive kernel computation"
   ]
  },
  {
   "cell_type": "code",
   "execution_count": 9,
   "metadata": {},
   "outputs": [],
   "source": [
    "def kernel_simple(A, b, c, L):\n",
    "    \"\"\"Compute K naively with its explicit expression.\"\"\"\n",
    "    K = [(c.H @ A.matrix_power(l) @ b).item() for l in range(L)]\n",
    "    return torch.tensor(K)"
   ]
  },
  {
   "cell_type": "code",
   "execution_count": 10,
   "metadata": {},
   "outputs": [],
   "source": [
    "class SimpleConvSSM(BaseSSM):\n",
    "    def __call__(self, u, L):\n",
    "\n",
    "        K = kernel_simple(self.A, self.b, self.c, L)\n",
    "        y = causal_convolution(u, K)\n",
    "        return y"
   ]
  },
  {
   "cell_type": "code",
   "execution_count": 11,
   "metadata": {},
   "outputs": [],
   "source": [
    "simple_conv_ssm = SimpleConvSSM(A, b, c)\n",
    "y_conv = simple_conv_ssm(u, L)"
   ]
  },
  {
   "cell_type": "code",
   "execution_count": 12,
   "metadata": {},
   "outputs": [],
   "source": [
    "assert torch.allclose(\n",
    "    y.type(torch.complex64), y_conv, atol=1e-3\n",
    ")  # We need to cast y to complex type."
   ]
  },
  {
   "cell_type": "markdown",
   "metadata": {},
   "source": [
    "## Efficient formulation and kernel computation"
   ]
  },
  {
   "cell_type": "markdown",
   "metadata": {},
   "source": [
    "But the main bottleneck of this computation is how we obtain the convolution kernel. We exponentiate a matrix $L$ times, compute a lot of matrix products etc, which is highly non efficient and non stable from a numerical point of view.\n",
    "\n",
    "To make this more efficient, we can find more sophisticated algorithms.\n"
   ]
  },
  {
   "cell_type": "markdown",
   "metadata": {},
   "source": [
    "Namely, instead of computing directly $\\bK$, we are going to compute its DFT, $\\bhatK$ and then simply apply a inverse Fourier Transform (IDFT). Let $\\om_k = \\exp\\left(-{\\dfrac{2i \\pi k}{N}}\\right)$.\n",
    "\n",
    "\n",
    "\n",
    "*Remark:* At this point, we are going to use exclusively complex numbers and hence work in a complex Hilbert space. The main notable difference is that the adjoint operator will now be *conjugation + transpose* instead of simply *transpose*.\n",
    "\n",
    "This applies especially to $\\bc$.\n",
    "\\begin{align}\\label{eq:K-spectrum}\n",
    "    \\bhatK_k &= \\sum_{i=0}^{L-1} \\bK_i \\omega_k^i,\\\\\n",
    "    &= \\sum \\bc^* A^i b \\omega_k^i,\\\\\n",
    "    &= \\bc^* \\left(\\sum \\bA^i \\omega_k^i \\right) \\bb,\\\\\n",
    "    &= \\bc^* (\\bI - \\bA^L)(\\bI - \\bA\\omega_k)^{-1} \\bb.\n",
    "\\end{align}"
   ]
  },
  {
   "cell_type": "markdown",
   "metadata": {},
   "source": [
    "But this does not really reduce the complexity, because now we have to compute an inverse $L$ times (for each $\\om_k$), giving a complexity of $\\mathcal{O}(LN^3)$.\n",
    "\n",
    "To see how we can improve it, let's give more details about the forms of $A$.\n",
    "\n"
   ]
  },
  {
   "cell_type": "markdown",
   "metadata": {},
   "source": [
    "### Discretization and special decomposition"
   ]
  },
  {
   "cell_type": "markdown",
   "metadata": {},
   "source": [
    "#### Discretization\n",
    "Instead of directly computing the state-space recurrence with the matrices $\\bA$ and $\\bb$ we are going to use slightly modified versions $\\bAb, \\bbb$. The rationale for doing so will be explained later.\n",
    "\n",
    "For now, one can assume that instead of using directly $\\bA$ and $\\bb$ directly we are going to use:\n",
    "\n",
    "\\begin{equation}\n",
    "    \\begin{cases}\n",
    "        \\bAb &= \\left(\\bI - \\dfrac{1}{2}\\bA \\right)^{-1}\\left(\\bI + \\dfrac{1}{2}\\bA\\right),\\\\\n",
    "        \\bbb &= \\left(\\bI - \\dfrac{1}{2}\\bA \\right)^{-1}\\bb.\n",
    "    \\end{cases}\n",
    "\\end{equation}\n",
    "\n",
    "Theses versions are called *discretized* (explanations given later)."
   ]
  },
  {
   "cell_type": "code",
   "execution_count": 13,
   "metadata": {},
   "outputs": [],
   "source": [
    "def discretize(A, b, step=1):\n",
    "    I = torch.eye(A.shape[0])\n",
    "    left_term = torch.linalg.inv(I - (step / 2.0) * A)\n",
    "    A_bar = left_term @ (I + (step / 2.0) * A)\n",
    "    b_bar = (left_term * step) @ b\n",
    "    return A_bar, b_bar"
   ]
  },
  {
   "cell_type": "markdown",
   "metadata": {
    "tags": []
   },
   "source": [
    "#### Decomposition\n",
    "\n",
    "Moreover, we are going to assume that $\\bA$ is similar to a matrix of the form $\\bLa - \\bp^* \\bp$, where we now considerate matrices and vectors with coefficients in $\\CC$.\n",
    "Where $\\bLa \\in \\CC^{N \\times N}$ is diagonal and $\\bp \\in \\CC^{N \\times 1}$.\n",
    "\n",
    "$.^*$ designated the hermitian adjoint (= transpose + conjugate) of a matrix (a vector is viewed as a matrix of $\\CC^{N \\times 1}$).\n",
    "This decomposition is called **Diagonal Plus Low Rank (DPLR)**.\n",
    "\n",
    "*Remark:* In the original article the derivations are made with $\\bA \\sim \\bLa + \\bq^* \\bp$. But in practice in S4 we use $-\\bp = \\bq$ which is valid and works better for numerical reasons."
   ]
  },
  {
   "cell_type": "markdown",
   "metadata": {},
   "source": [
    "\n",
    "And in the adapted basis, the inverse of a DLPR matrix is much more easy to compute, thanks to the Woodburry inversion formula:\n",
    "\n",
    "\\begin{equation}\n",
    "    (\\bLa - \\bp^* \\bq)^{-1} = \\bLa^{-1} + \\bLa^{-1}\\bp \\left(1 - \\bq^*\\bLa^{-1} \\bp\\right)^{-1}\\bq^* \\bLa^{-1}.\n",
    "\\end{equation}\n",
    "\n",
    "One can notice that this inverse requires only $\\mathcal{O}(N)$ operations (each term can be computed in linear time)."
   ]
  },
  {
   "cell_type": "markdown",
   "metadata": {},
   "source": [
    "If we apply this result to the expression of $\\bhatK$ \\eqref{eq:K-spectrum} using $\\bAb$ and $\\bbb$, with some more algebraic manipulations (details in the original article), we obtain a quite simple formula for its expression:\n",
    "\n",
    "\\begin{equation}\n",
    "    \\bhatK_k = \\dfrac{2}{1 + \\om_k}\\left[\\ctilde^* \\bR_k \\bb - \\ctilde^* \\bR_k \\bp (1 + \\bp^*\\bR_k \\bp)^{-1}\\bp^*\\bR_k \\bb\\right].\n",
    "\\end{equation}\n",
    "\n",
    "with $\\bR_k = \\left(2\\dfrac{1 - \\om_k}{1 + \\om_k} - \\bLa \\right)^{-1}$ and $\\ctilde^* = \\bc^* (\\bI - \\bAb^L)$.\n",
    "\n",
    "And here, in fact all the matrix multiplications can be evaluated very efficiently.\n"
   ]
  },
  {
   "cell_type": "markdown",
   "metadata": {},
   "source": [
    "\\begin{align}\\label{eq:cauchy-K}\n",
    "   \\ctilde^* \\bR_k \\bb &= \\sum_{i=1}^{N} \\dfrac{\\ctilde_i \\bb_i}{\\om_k - \\bLa_i},\n",
    "\\end{align}\n",
    "\n",
    "and because we want to compute it for all $\\om_k$, the complexity reduces to $\\mathcal{O}(NL)$.\n",
    "In fact, we can be even more efficient, but we need to rely on algorithms that are not yet implemented on Pytorch.\n",
    "But notice that evaluating this product in $\\mathcal{O}(NL)$ is not a bottleneck (if implementing it efficiently) as in practical applications we are often limited by the sequence length size.\n",
    "\n",
    "Computing operation \\eqref{eq:cauchy-K} for all $k$ is actually a Cauchy product, a well studied problem in the litterature. We are going to implement it in a naive way, but again it won't be the main bottleneck of our model."
   ]
  },
  {
   "cell_type": "markdown",
   "metadata": {
    "tags": []
   },
   "source": [
    "### Efficient convolution implementation\n",
    "We have to implement at least two functions:\n",
    "\n",
    "- `cauchy` that will compute the terms like $\\ctilde^* \\bR_k \\bb$. It takes 3 parameters as input for the vectors $(\\ctilde, \\bp, \\bLa)$ and another `omega_L` for comuting $\\bR_k$ for each $0 \\leq k \\leq L - 1$.\n",
    "- `kernel_dplr` that will compute the $\\bhatK$ using `cauchy`.\n",
    "- `compute_c_tilde` to compute $\\ctilde$ given the original $\\bc$ (this function won't be useful in the final S4 implementation but we will need it for testing purposes, i.e to check that $\\bK$ obtained with our hard computations work indeed yields the same result than a naive implementation."
   ]
  },
  {
   "cell_type": "code",
   "execution_count": 14,
   "metadata": {},
   "outputs": [],
   "source": [
    "def compute_c_tilde(A, c, L):\n",
    "    I = torch.eye(A.shape[0])\n",
    "\n",
    "    # .H returns the adjoint operator (equivalent to transpose with real inputs).\n",
    "    return (I - A.matrix_power(L)).H @ c\n",
    "\n",
    "\n",
    "def cauchy(p, q, Lambda, omega_L):\n",
    "    omega_L = 2.0 * ((1.0 - omega_L) / (1 + omega_L))\n",
    "\n",
    "    dot_product = p.conj() * q\n",
    "\n",
    "    Lambda = Lambda[:, None]\n",
    "    omega_L = omega_L[None, :]\n",
    "    cauchy_product = dot_product / (omega_L - Lambda)\n",
    "    return cauchy_product.sum(axis=-2)\n",
    "\n",
    "\n",
    "def kernel_dplr(Lambda, p, b, c_tilde, L):\n",
    "    omega_L = torch.exp((-2j * torch.pi) * torch.arange(L) / L)\n",
    "    term_1 = cauchy(c_tilde, b, Lambda, omega_L)\n",
    "    term_2 = cauchy(c_tilde, p, Lambda, omega_L)\n",
    "    term_3 = 1.0 / (1.0 + cauchy(p, p, Lambda, omega_L))\n",
    "    term_4 = cauchy(p, b, Lambda, omega_L)\n",
    "\n",
    "    K_fft = (2.0 / (1.0 + omega_L)) * (term_1 - term_2 * term_3 * term_4)\n",
    "    return torch.fft.ifft(K_fft, L)"
   ]
  },
  {
   "cell_type": "code",
   "execution_count": 15,
   "metadata": {},
   "outputs": [],
   "source": [
    "def make_dplr_ssm_random(N):\n",
    "    # Create a random DPLR decomposition.\n",
    "\n",
    "    Lambda = -torch.rand(\n",
    "        N, dtype=torch.complex64\n",
    "    )  # use negative real parts to get more stability\n",
    "    p = torch.randn(N, 1, dtype=torch.complex64)\n",
    "    b = torch.randn(N, 1, dtype=torch.complex64)\n",
    "    c = torch.randn(N, 1, dtype=torch.complex64)\n",
    "\n",
    "    return Lambda, p, b, c\n",
    "\n",
    "\n",
    "Lambda, p, b, c = make_dplr_ssm_random(N)\n",
    "\n",
    "\n",
    "A = torch.diag(Lambda) - p @ p.H\n",
    "A_bar, b_bar = discretize(A, b)\n",
    "c_tilde = compute_c_tilde(A_bar, c, L)"
   ]
  },
  {
   "cell_type": "code",
   "execution_count": 16,
   "metadata": {},
   "outputs": [],
   "source": [
    "# Check if the computations of the kernel yields the same result than with a naive approach.\n",
    "K_dplr = kernel_dplr(Lambda, p, b, c_tilde, L)\n",
    "K_simple = kernel_simple(A_bar, b_bar, c, L)"
   ]
  },
  {
   "cell_type": "code",
   "execution_count": 17,
   "metadata": {},
   "outputs": [],
   "source": [
    "assert torch.allclose(K_simple, K_dplr, atol=1e-4, rtol=1e-4)"
   ]
  },
  {
   "cell_type": "markdown",
   "metadata": {},
   "source": [
    "We can now implement the convolutional SSM quite efficiently and in a very stable way."
   ]
  },
  {
   "cell_type": "code",
   "execution_count": 18,
   "metadata": {},
   "outputs": [],
   "source": [
    "class EfficientConvSSM(BaseSSM):\n",
    "    def __init__(self, Lambd, p, b, c):\n",
    "        self.Lambda = Lambda\n",
    "        self.p = p\n",
    "        self.b = b\n",
    "        self.c = c\n",
    "\n",
    "    def __call__(self, u, L):\n",
    "        A = torch.diag(self.Lambda) - p @ p.H\n",
    "        A_bar, _ = discretize(A, self.b)\n",
    "        c_tilde = compute_c_tilde(A_bar, c, L)\n",
    "        K = kernel_dplr(self.Lambda, p, b, c_tilde, L)\n",
    "        y = causal_convolution(u, K)\n",
    "        return y"
   ]
  },
  {
   "cell_type": "code",
   "execution_count": 19,
   "metadata": {},
   "outputs": [],
   "source": [
    "# Compares efficient implentation with the naive one.\n",
    "efficient_conv_ssm = EfficientConvSSM(Lambda, p, b, c)\n",
    "y_efficient_conv = efficient_conv_ssm(u, L)"
   ]
  },
  {
   "cell_type": "code",
   "execution_count": 20,
   "metadata": {},
   "outputs": [],
   "source": [
    "simple_conv_ssm = SimpleConvSSM(A_bar, b_bar, c)\n",
    "y_simple_conv = simple_conv_ssm(u, L)"
   ]
  },
  {
   "cell_type": "code",
   "execution_count": 21,
   "metadata": {},
   "outputs": [],
   "source": [
    "assert torch.allclose(y_efficient_conv, y_simple_conv, atol=1e-4)"
   ]
  },
  {
   "cell_type": "markdown",
   "metadata": {
    "tags": []
   },
   "source": [
    "## Multidimensional data\n",
    "\n",
    "One can have noticed that until now we have only used 1D sequences. In real applications we always need to use multi-dimensional data.\n",
    "As said earlier, a direct way to generalize everything is to apply all this processing to all dimensions independently.\n",
    "\n",
    "To do that in Pytorch, we are going to rely a lot on broadcasting. The drawback is that everything will be less easily readible.\n",
    "\n",
    "A good way to keep track of what is happening is to always remind the shape of the input tensors.\n",
    "\n",
    "\n",
    "And in addition we are also going to consider a batch dimension.\n",
    "\n",
    "In what will follow:\n",
    "- `L` will be sequence length.\n",
    "- `N` will be the state dimension.\n",
    "- `H` will be the embedding dimension (instead of having $u \\in \\RR^L$, we have $u \\in \\RR^{H\\times L}$.\n",
    "- `B` will be the batch size (finally $u \\in \\RR^{B \\times H\\times L}$)."
   ]
  },
  {
   "cell_type": "markdown",
   "metadata": {},
   "source": [
    "### Multi dimenstional discretization\n",
    "Let's first vectorize the discretization step."
   ]
  },
  {
   "cell_type": "code",
   "execution_count": 22,
   "metadata": {},
   "outputs": [],
   "source": [
    "def discretize_multi(A, b, step=1):\n",
    "    # A (H, N, N)\n",
    "    # b (H, N)\n",
    "    I = torch.eye(A.shape[1])\n",
    "    left_term = torch.linalg.inv(I[None, :, :] - (step / 2.0) * A)\n",
    "    A_bar = left_term @ (I + (step / 2.0) * A)\n",
    "    b_bar = (left_term * step) @ b[:, :, None]\n",
    "    return A_bar, b_bar.reshape(b.shape[0], -1)\n",
    "\n",
    "\n",
    "def discretize_multi_simple(A, b, step=1):\n",
    "    # A (H, N, N)\n",
    "    # b (H, N)\n",
    "    A_bar = torch.zeros_like(A)\n",
    "    b_bar = torch.zeros_like(b)\n",
    "    for h in range(A.shape[0]):\n",
    "        A_bar[h], b_bar[h] = discretize(A[h], b[h], step=step)\n",
    "    return A_bar, b_bar"
   ]
  },
  {
   "cell_type": "code",
   "execution_count": 23,
   "metadata": {},
   "outputs": [],
   "source": [
    "H = 3\n",
    "A = torch.randn(H, N, N)\n",
    "b = torch.randn(H, N)\n",
    "c = torch.randn(H, N)\n",
    "A_bar, b_bar = discretize_multi(A, b)\n",
    "A_bar_simple, b_bar_simple = discretize_multi_simple(A, b)"
   ]
  },
  {
   "cell_type": "code",
   "execution_count": 24,
   "metadata": {},
   "outputs": [],
   "source": [
    "A_bar, b_bar = discretize_multi(A, b)\n",
    "A_bar_simple, b_bar_simple = discretize_multi_simple(A, b)\n",
    "\n",
    "assert torch.allclose(A_bar_simple, A_bar, atol=1e-4)\n",
    "assert torch.allclose(b_bar, b_bar_simple, atol=1e-4)"
   ]
  },
  {
   "cell_type": "markdown",
   "metadata": {},
   "source": [
    "Let's make a utility function to help us \"vectorize\" our unidimensionnal functions for testing (it just does a for loop but it will help us avoid repeating code).\n",
    "\n",
    "This roughly does the same than the manual implementation of `discretize_multi_simple`."
   ]
  },
  {
   "cell_type": "code",
   "execution_count": 25,
   "metadata": {},
   "outputs": [],
   "source": [
    "def make_multi(func):\n",
    "    \"\"\"Makes a function handle multi dimensionnal inputs.\n",
    "    This is not optimized and should only be used for testing purposes.\"\"\"\n",
    "\n",
    "    def multi_inputs(*args):\n",
    "        out = []\n",
    "        hidden_dim = args[0].shape[0]\n",
    "\n",
    "        args = list(args)\n",
    "        for i in range(len(args)):\n",
    "            if not isinstance(args[i], torch.Tensor):\n",
    "\n",
    "                args[i] = [args[i] for _ in range(hidden_dim)]\n",
    "\n",
    "        for h in range(hidden_dim):\n",
    "            out.append(func(*[input_tensor[h] for input_tensor in args]).tolist())\n",
    "        return torch.tensor(out)\n",
    "\n",
    "    return multi_inputs"
   ]
  },
  {
   "cell_type": "markdown",
   "metadata": {
    "tags": []
   },
   "source": [
    "### Multi dimensional kernel computation\n",
    "Now the kernel generation."
   ]
  },
  {
   "cell_type": "code",
   "execution_count": 26,
   "metadata": {},
   "outputs": [],
   "source": [
    "def compute_c_tilde_multi(A, c, L):\n",
    "    # A (H, N, N)\n",
    "    # c (H, N)\n",
    "    c_tilde = (torch.eye(A.shape[1])[None, :, :] - A.matrix_power(L)).mH @ c[:, :, None]\n",
    "    return c_tilde.view(c_tilde.shape[0], -1)\n",
    "\n",
    "\n",
    "def cauchy_multi(p, q, Lambd, omega_L):\n",
    "    \"\"\"Multidimensionnal Cauchy product. Basically we are just using broadcasting to generalize above function.\"\"\"\n",
    "    # p, q, Lambd (H, N)\n",
    "    # omega_L (L,)\n",
    "    omega_L = 2.0 * ((1.0 - omega_L) / (1 + omega_L))\n",
    "    dot_product = p.conj() * q\n",
    "\n",
    "    Lambd = Lambd[:, :, None]\n",
    "    omega_L = omega_L[None, None, :]\n",
    "    cauchy_product = dot_product[:, :, None] / (omega_L - Lambd)\n",
    "    return cauchy_product.sum(axis=-2)\n",
    "\n",
    "\n",
    "def kernel_dplr_multi(Lambd, p, b, c_tilde, L):\n",
    "    # c_tilde, p, q, Lambd (H, N)\n",
    "    omega_L = torch.exp((-2j * torch.pi) * torch.arange(L) / L)\n",
    "    term_1 = cauchy_multi(c_tilde, b, Lambd, omega_L)\n",
    "    term_2 = cauchy_multi(c_tilde, p, Lambd, omega_L)\n",
    "    term_3 = 1.0 / (1.0 + cauchy_multi(p, p, Lambd, omega_L))\n",
    "    term_4 = cauchy_multi(p, b, Lambd, omega_L)\n",
    "\n",
    "    K_fft = (2.0 / (1.0 + omega_L[None, :])) * (term_1 - term_2 * term_3 * term_4)\n",
    "    return torch.fft.ifft(K_fft, L)"
   ]
  },
  {
   "cell_type": "code",
   "execution_count": 27,
   "metadata": {},
   "outputs": [],
   "source": [
    "c_tilde = compute_c_tilde_multi(A, c, L)\n",
    "\n",
    "compute_c_tilde_multi_simple = make_multi(compute_c_tilde)\n",
    "c_tilde_simple = compute_c_tilde_multi_simple(A, c, L)\n",
    "\n",
    "# Check if our vectorized function gives the same result than the a naive one.\n",
    "assert torch.allclose(c_tilde, c_tilde_simple, atol=1e-4)"
   ]
  },
  {
   "cell_type": "code",
   "execution_count": 28,
   "metadata": {},
   "outputs": [],
   "source": [
    "def make_dplr_ssm_random_multi(H, N):\n",
    "    Lambda = torch.randn(H, N, dtype=torch.complex64)\n",
    "    p = torch.randn(H, N, dtype=torch.complex64)\n",
    "    b = torch.randn(H, N, dtype=torch.complex64)\n",
    "    c = torch.randn(H, N, dtype=torch.complex64)\n",
    "\n",
    "    return Lambda, p, b, c"
   ]
  },
  {
   "cell_type": "code",
   "execution_count": 29,
   "metadata": {},
   "outputs": [],
   "source": [
    "# Test with complex inputs, just to make sure we will be able to generalize with these kind of inputs.\n",
    "Lambda, p, b, c = make_dplr_ssm_random_multi(H, N)\n",
    "omega_L = torch.exp((-2j * torch.pi) * torch.arange(L) / L)\n",
    "\n",
    "prod = cauchy_multi(p, b, Lambda, omega_L)\n",
    "\n",
    "cauchy_multi_simple = make_multi(cauchy)\n",
    "prod_simple = cauchy_multi_simple(\n",
    "    p[:, :, None], b[:, :, None], Lambda, omega_L.expand(H, L)\n",
    ")\n",
    "\n",
    "assert torch.allclose(prod_simple, prod)"
   ]
  },
  {
   "cell_type": "code",
   "execution_count": 30,
   "metadata": {},
   "outputs": [],
   "source": [
    "K = kernel_dplr_multi(Lambda, p, b, c, L)\n",
    "\n",
    "kernel_dplr_multi_simple = make_multi(kernel_dplr)\n",
    "\n",
    "K_simple = kernel_dplr_multi_simple(\n",
    "    Lambda, p[:, :, None], b[:, :, None], c[:, :, None], L\n",
    ")\n",
    "\n",
    "# Compare the kernels with our vectorized and naive approaches.\n",
    "assert torch.allclose(K, K_simple)"
   ]
  },
  {
   "cell_type": "markdown",
   "metadata": {
    "tags": []
   },
   "source": [
    "### Multi dimensional convolution"
   ]
  },
  {
   "cell_type": "code",
   "execution_count": 31,
   "metadata": {},
   "outputs": [],
   "source": [
    "def causal_convolution_multi(u, K):\n",
    "    # u (B, H, L)\n",
    "    # K (H, L)\n",
    "    fft_shape = u.shape[2] + K.shape[1]\n",
    "    u_fft = torch.fft.fft(u, n=fft_shape, axis=-1)\n",
    "    K_fft = torch.fft.fft(K, n=fft_shape, axis=-1)\n",
    "    out = u_fft * K_fft\n",
    "    return torch.fft.ifft(out, axis=-1)[:, :, : u.shape[2]]\n",
    "\n",
    "\n",
    "def causal_convolution_multi_simple(u, K):\n",
    "    # u (B, H, L)\n",
    "    # K (H, L)\n",
    "    out = torch.zeros_like(u, dtype=torch.complex64)\n",
    "    for i in range(u.shape[0]):\n",
    "        for j in range(u.shape[1]):\n",
    "            out[i, j, :] = causal_convolution(u[i, j, :], K[j])\n",
    "    return out\n",
    "\n",
    "\n",
    "def test_convolution_multi(batch_size=8, seq_length=10, hidden_size=5):\n",
    "    \"\"\"Function to test if the multidimensionnal convolution works.\"\"\"\n",
    "    u = torch.randn(batch_size, hidden_size, seq_length)\n",
    "    K = torch.randn(hidden_size, seq_length)\n",
    "\n",
    "    y_simple = causal_convolution_multi_simple(u, K)\n",
    "    y = causal_convolution_multi(u, K)\n",
    "    assert torch.allclose(y, y_simple, atol=1e-4)"
   ]
  },
  {
   "cell_type": "code",
   "execution_count": 32,
   "metadata": {},
   "outputs": [],
   "source": [
    "test_convolution_multi()"
   ]
  },
  {
   "cell_type": "markdown",
   "metadata": {},
   "source": [
    "Ok it was a bit tedious but we did it.\n",
    "\n",
    "Now we are ready to implement everything in a `nn.Module` class.\n",
    "We have indeed a desribed a valid model whose parameters are $\\bLa, \\bb, \\bp, \\bc$.\n",
    "\n",
    "There is however a last detail on which we should spend some time. Indeed, we are going to initialize $\\bLa, \\bb, \\bp$ with very special values. This is also this initializatin which is going to explain why this S4 model works so well."
   ]
  },
  {
   "cell_type": "markdown",
   "metadata": {},
   "source": [
    "# HiPPO matrix\n",
    "\n",
    "First a bit of context. In the previous section we have introduced a discretized version as well as DPLR decomposition for $\\bA$. But the main contribution of the article is to provide a value of $\\bA$ that will efficiently keep in memory the information on the whole sequence.\n",
    "\n",
    "To do that, let's go back in the continuous domain and consider $u(t)$, $u \\colon \\RR^+ \\to \\RR$ a scalar continuous function. Because we are in the end interesting in autoregressive generation, let's introduce $\\ut = u \\mathbf{1}_{\\clint{0, t}}$. And what the authors propose is to approximate this function $\\ut$ on a polynomial basis, *for each* $t \\in \\RR^+$.\n",
    "\n",
    "For time $t$ we choose an orthogonal polynomial basis $(P_n^t)_{0\\leq n \\leq N-1}\\in \\RR_N[X]$ for the scalar product $\\dotp{u, v} = \\displaystyle\\int_0^t u v \\diff \\lambda$ (typically we orthogonalize the canonical basis).\n",
    "\n",
    "$\\forall n \\in [0..N-1]$ the coefficients $x_n(t)$ of the projection are simply given by:\n",
    "\n",
    "\\begin{equation}\\label{eq:coefs}\n",
    "    x_n(t) = \\displaystyle\\int_0^t \\ut(s) P^t_n(s) \\diff s.\n",
    "\\end{equation}\n",
    "\n",
    "When we differentiate \\eqref{eq:coefs} (see the original paper for the details), we find something that again depends on the $x_1, \\dots, x_N$ and $\\ut$, hence we have an ODE of the form:\n",
    "\n",
    "\\begin{equation}\\label{eq:ode}\n",
    "    \\dfrac{d \\bx}{dt}(t) = \\bA \\bx(t) + u(t)\\bb,\n",
    "\\end{equation}\n",
    "with $\\bA \\in \\RR^{N \\times N}$ and $\\bb \\in \\RR^N$.\n",
    "\n",
    "At each time $t$, $\\bx(t) \\in \\RR^N$ has therefore the powerful property to represent the whole function $\\ut$. Hence, the memory property.\n",
    "And it happens that for the Legend polynomial basis, the matrices $\\bA$ and $\\bb$ have a closed form expression:\n",
    "\n",
    "\\begin{array}{rrrl}\n",
    "    \\forall i, j \\in [0..N-1], & \\, \\bA_{ij} & = & -\n",
    "    \\begin{cases}\n",
    "        (2i + 1)^{1/2}(2j + 1)^{1/2} &\\quad \\text{if} \\, i > j,\\\\\n",
    "        i + 1 &\\quad \\text{if} \\, i = j,\\\\\n",
    "        0 &\\quad \\text{if} \\, i < j,\n",
    "    \\end{cases}\\\\\n",
    "    \\forall i \\in [0..N-1], & \\, \\bb_i & = & (2i + 1)^{1/2}.\n",
    "\\end{array}\n",
    "## Discretization\n",
    "\n",
    "Up to now we have been using continuous input, but we are in the end interested in *discrete* inputs. To adapt everything, the authors simply proposed to discretize the ODE.\n",
    "To do that, we can apply several discretization form. The one chosen by the authors is the bilinear method, that states that instead of using $\\bA$ and $\\bb$, for discrete inputs we can use $\\bAb$ and $\\bbb$ introduced earlier.\n",
    "\n"
   ]
  },
  {
   "cell_type": "markdown",
   "metadata": {
    "tags": []
   },
   "source": [
    "## HiPPO matrix canonical basis\n",
    "\n",
    "Let's write some functions to compute $\\bA$ and $\\bb$."
   ]
  },
  {
   "cell_type": "code",
   "execution_count": 33,
   "metadata": {},
   "outputs": [],
   "source": [
    "def hippo_matrices(N):\n",
    "    u = torch.arange(N)\n",
    "    b = torch.sqrt(2 * u[:, None] + 1)\n",
    "    A = b @ b.T\n",
    "    A = torch.tril(A, 0)\n",
    "    A = -(A - torch.diag(u))\n",
    "\n",
    "    return A, b"
   ]
  },
  {
   "cell_type": "code",
   "execution_count": 34,
   "metadata": {},
   "outputs": [
    {
     "data": {
      "text/plain": [
       "tensor([[-1.0000, -0.0000, -0.0000, -0.0000],\n",
       "        [-1.7321, -2.0000, -0.0000, -0.0000],\n",
       "        [-2.2361, -3.8730, -3.0000, -0.0000],\n",
       "        [-2.6458, -4.5826, -5.9161, -4.0000]])"
      ]
     },
     "execution_count": 34,
     "metadata": {},
     "output_type": "execute_result"
    }
   ],
   "source": [
    "A, b = hippo_matrices(4)\n",
    "A"
   ]
  },
  {
   "cell_type": "markdown",
   "metadata": {
    "tags": []
   },
   "source": [
    "## HiPPO DPLR\n",
    "\n",
    "We have talked later about the DPLR form. We will now that indeed $\\bA$ given by the HiPPO framework is in fact DPLR.\n",
    "\n",
    "Indeed, one can notice that if $\\ptilde = \\dfrac{1}{\\sqrt{2}}\\bb$, then:\n",
    "\n",
    "\\begin{align}\n",
    "    \\bA + \\ptilde \\ptilde^t &= -\\begin{cases}\n",
    "        \\dfrac{1}{2}(2i + 1)^{1/2}(2j + 1)^{1/2} &\\quad \\text{if} \\, i > j,\\\\\n",
    "        \\dfrac{1}{2} &\\quad \\text{if} \\, i = j,\\\\\n",
    "        -\\dfrac{1}{2}(2i + 1)^{1/2}(2j + 1)^{1/2} &\\quad \\text{if} \\, i < j,\n",
    "    \\end{cases}\\\\\n",
    "    &= -\\dfrac{1}{2}\\bI - \\bS\n",
    "\\end{align}\n",
    "where $\\bS$ is a skew-symmetric matrix ($\\bS = - \\bS^*$):\n",
    "\n",
    "\\begin{equation}\n",
    "\\bS =\n",
    "\\begin{cases}\n",
    "        \\dfrac{1}{2}(2i + 1)^{1/2}(2j + 1)^{1/2} &\\quad \\text{if} \\, i > j,\\\\\n",
    "        0 &\\quad \\text{if} \\, i = j,\\\\\n",
    "        -\\dfrac{1}{2}(2i + 1)^{1/2}(2j + 1)^{1/2} &\\quad \\text{if} \\, i < j,\n",
    "\\end{cases}\n",
    "\\end{equation}\n",
    "\n",
    "And a skew-symmetric matrix can be diagonalized (in $\\CC$), hence it means that $\\bA$ is similar to a DPLR matrix!\n",
    "\n",
    "\\begin{equation}\n",
    "\\exists \\bV \\in \\mathcal{O}_N(\\CC),\\, \\bA = \\bV \\left( \\bLa - \\bp \\bp^* \\right) \\bV^*,\n",
    "\\end{equation}\n",
    "\n",
    "with $\\bV$ the matrix representing the (complex) eigenvectors of $\\bS$, $\\mathcal{O}_N(\\CC)$ the set of orthogonal matrices of size $N$ in $\\CC$, and $\\bp = \\bV^* \\ptilde$.\n",
    "Note that we should not forget to also change the basis of $\\bb$ when we want to use the special form $\\bA = \\bLa - \\bp \\bp^*$.\n"
   ]
  },
  {
   "cell_type": "code",
   "execution_count": 35,
   "metadata": {},
   "outputs": [],
   "source": [
    "def hippo_matrices_dplr(N):\n",
    "    u = torch.arange(N)[:, None]\n",
    "\n",
    "    p_tilde = torch.sqrt(u + 0.5)\n",
    "\n",
    "    # Construct S\n",
    "    S = torch.tril(p_tilde @ p_tilde.T)\n",
    "    S = -S + S.T\n",
    "\n",
    "    # A small trick to make a skew-hermitian matrix a hermitian one by only multiplying its eigenvalues by a constant.\n",
    "    hermitian_S = S * -1j\n",
    "\n",
    "    # Diagonalize S and extract V.\n",
    "    Lambda, V = torch.linalg.eigh(hermitian_S)\n",
    "\n",
    "    # Mutliplies back the eigenvalues by (1j)^-1 to retrieve the original eigenvalues of the skew-hermitian matrix.\n",
    "    # We have to add the real parts of the eigenvalues, coming for the 1/2*Id part of the decomposition.\n",
    "    Lambda = Lambda * 1j - 0.5\n",
    "\n",
    "    b = torch.sqrt(2 * u + 1)\n",
    "\n",
    "    # Change of basis for b and p.\n",
    "    b = V.H @ b.type(torch.complex64)\n",
    "    p = V.H @ p_tilde.type(torch.complex64)\n",
    "\n",
    "    return V, Lambda, p, b"
   ]
  },
  {
   "cell_type": "code",
   "execution_count": 36,
   "metadata": {},
   "outputs": [],
   "source": [
    "V, Lambda, p, b = hippo_matrices_dplr(N)"
   ]
  },
  {
   "cell_type": "markdown",
   "metadata": {},
   "source": [
    "Check if we did not make any mistakes in our change of basis by comparing $\\bA$ obtained from the direct formula and the one obtained through diagonalization:"
   ]
  },
  {
   "cell_type": "code",
   "execution_count": 37,
   "metadata": {},
   "outputs": [],
   "source": [
    "A, b = hippo_matrices(N)\n",
    "\n",
    "assert torch.allclose(\n",
    "    V @ (torch.diag(Lambda) - p @ p.H) @ V.H, A.type(torch.complex64), atol=1e-4\n",
    ")"
   ]
  },
  {
   "cell_type": "markdown",
   "metadata": {},
   "source": [
    "We now have everything to initialize our parameters:\n",
    "\n",
    "- Create $\\bA, \\bp$ and $\\bb$ with their closed form expressions.\n",
    "- Instead of optimizing $\\bc$ we are going to optimize $\\ctilde$ which is in fact the only part where $\\bc$ is used. It will help reducing the number of operations and especially avoid exponentiating $\\bA$ (this is however a bit incorrect because we are losing the property that the output is real, but we can hope the neural network will learn a 'good' $\\ctilde$ which in the end has this property).\n",
    "- Initialize $\\ctilde$ at random.\n",
    "- Extract $\\bS$ from $\\bA$ and compute its eigenbasis.\n",
    "- Change the basis of $\\bp, \\bb$.\n"
   ]
  },
  {
   "cell_type": "markdown",
   "metadata": {},
   "source": [
    "Before getting to the full implementation, we are going to explain how we can perform autoregressive decoding.\n",
    "Indeed, when doing a convolution, we assume that the whole input in known. In autoregressive decoding it is not the case anymore. We therefore have to get back to the basic definition of the state-space system.\n",
    "\n"
   ]
  },
  {
   "cell_type": "markdown",
   "metadata": {},
   "source": [
    "# Recurrent decoding\n",
    "The authors derived a computation of each step in $\\mathcal{O}(N)$ (instead of a naive $\\mathcal{O}(N^2))$, by leveraging the DPLR form of $\\bA$ with single unidimensional inputs, and $\\mathcal{O}(HN)$ with H-dimensional inputs and $N$ the polynomial space dimension.\n",
    "\n",
    "The authors derive that we can decompose $\\bAb$ as the product of two DPLR matrices:\n",
    "\n",
    "\\begin{equation}\n",
    "    \\bAb = \\bA_1 \\bA_0,\n",
    "\\end{equation}\n",
    "with:\n",
    "\n",
    "\\begin{equation}\n",
    "    \\bA_i = \\bLa_i - \\bp_i \\bq_i^*.  \n",
    "\\end{equation}\n",
    "where:\n",
    "\\begin{cases}\n",
    "    \\bLa_0 &= 2 + \\bLa,\\\\\n",
    "    \\bp_0 &= \\bp,\\\\\n",
    "    \\bq_0 &= \\bp.\n",
    "\\end{cases}\n",
    "and:\n",
    "\\begin{cases}\n",
    "    \\bLa_1 &= (2 - \\bLa)^{-1},\\\\\n",
    "    \\bp_1 &= \\bLa_1(1 + \\bp^* \\bLa_1 \\bp)^{-1},\\\\\n",
    "    \\bq_1 &= \\bp^* \\bLa_1\n",
    "\\end{cases}"
   ]
  },
  {
   "cell_type": "markdown",
   "metadata": {},
   "source": [
    "## Naive matrices computations\n",
    "Below is the values of the matrices computed in the original paper."
   ]
  },
  {
   "cell_type": "code",
   "execution_count": 38,
   "metadata": {},
   "outputs": [],
   "source": [
    "def discrete_dplr(Lambda, p, b, step=1.0):\n",
    "    # Convert parameters to matrices\n",
    "    N = Lambda.shape[0]\n",
    "    A = torch.diag(Lambda) - p @ p.H\n",
    "    I = torch.eye(N)\n",
    "\n",
    "    # Forward Euler\n",
    "    A_0 = (2.0 / step) * I + A\n",
    "\n",
    "    # Backward Euler\n",
    "    D = torch.diag(1.0 / ((2.0 / step) - Lambda))\n",
    "    D_p = D @ p\n",
    "\n",
    "    A_1 = D - (D_p * (1.0 / (1 + (p.H @ D_p))) * p.H @ D)\n",
    "\n",
    "    # A bar and b bar\n",
    "    A_bar = A_1 @ A_0\n",
    "    b_bar = 2 * A_1 @ b\n",
    "\n",
    "    return A_bar, b_bar"
   ]
  },
  {
   "cell_type": "code",
   "execution_count": 39,
   "metadata": {},
   "outputs": [],
   "source": [
    "p = torch.randn(N, 1)\n",
    "b = torch.randn(N, 1)\n",
    "Lambd = torch.randn(N)\n",
    "\n",
    "# Our new formula\n",
    "A_bar_dplr, b_bar_dplr = discrete_dplr(Lambd, p, b)\n",
    "\n",
    "# Base formula\n",
    "A = torch.diag(Lambd) - p @ p.H\n",
    "A_bar_closed_form, b_bar_closed_form = discretize(A, b)\n",
    "\n",
    "assert torch.allclose(A_bar_dplr, A_bar_closed_form, atol=1e-3)"
   ]
  },
  {
   "cell_type": "markdown",
   "metadata": {},
   "source": [
    "Now we can perform autoregressice decoding easily, simply by using our matrices $\\bA_0, \\ \\bA_1$."
   ]
  },
  {
   "cell_type": "code",
   "execution_count": 40,
   "metadata": {},
   "outputs": [],
   "source": [
    "def scan_ssm(A_bar, b_bar, c, u, x_0):\n",
    "    def step(x_k_1, u_k):\n",
    "        x_k = A_bar @ x_k_1 + b_bar @ u_k\n",
    "        y_k = c.H @ x_k\n",
    "        return x_k, y_k\n",
    "\n",
    "    recurrence = []\n",
    "    x_k = x_0\n",
    "    for i in range(u.shape[0]):\n",
    "        x_k, y_k = step(x_k, u[i])\n",
    "        recurrence.append(y_k)\n",
    "    return x_k, torch.tensor(recurrence)"
   ]
  },
  {
   "cell_type": "markdown",
   "metadata": {},
   "source": [
    "## Efficient implentation\n",
    "\n",
    "But with this form we do not leverage the efficiency of DPLR matrices. Indeed, the matrix-vector product of a DPLR matrix is $\\mathcal{O}(N)$.\n",
    "Indeed:\n",
    "\n",
    "\\begin{equation}\n",
    "    (\\bLa - \\bp \\bq^*)\\bx = \\bLa \\bx - \\bp \\underbrace{(\\bq^* \\bx)}_{scalar}.\n",
    "\\end{equation}\n",
    "\n",
    "To code this, we are simple going to need the DPLR decomposition and not the full matrix anymore."
   ]
  },
  {
   "cell_type": "code",
   "execution_count": 41,
   "metadata": {},
   "outputs": [],
   "source": [
    "def discrete_dplr_opti(Lambda, p, b, step=1):\n",
    "    # Lambda (N,)\n",
    "    # p, p (N, 1)\n",
    "    \"\"\"DPLR of A_0 and A_1.\"\"\"\n",
    "    Lambda_0 = 2.0 / step + Lambda[:, None]\n",
    "    p_0 = p\n",
    "    q_0 = p\n",
    "\n",
    "    Lambda_1 = 1.0 / ((2.0 / step) - Lambda[:, None])\n",
    "    p_1 = Lambda_1 * p * 1.0 / (1.0 + p.H @ (Lambda_1 * p))\n",
    "    q_1 = Lambda_1.conj() * p\n",
    "\n",
    "    b_bar = 2 * (Lambda_1 * b - p_1 * (q_1.H @ b))\n",
    "\n",
    "    return (Lambda_0, p_0, q_0), (Lambda_1, p_1, q_1), b_bar"
   ]
  },
  {
   "cell_type": "code",
   "execution_count": 42,
   "metadata": {},
   "outputs": [],
   "source": [
    "def dplr_vector_product(dplr, x):\n",
    "    \"\"\"Unidimensionnal optimized dplr matrix-vector product.\"\"\"\n",
    "    Lambda, p, q = dplr\n",
    "    diagonal_prod = Lambda * x\n",
    "\n",
    "    lr_prod = p * (q.H @ x)\n",
    "\n",
    "    return diagonal_prod - lr_prod\n",
    "\n",
    "\n",
    "def scan_ssm_opti(dplr_0, dplr_1, b_bar, c, u, x_0):\n",
    "    \"\"\"Optimized RNN computations.\"\"\"\n",
    "\n",
    "    def step(x_k_1, u_k):\n",
    "        x_k = dplr_vector_product(dplr_0, x_k_1)\n",
    "        x_k = dplr_vector_product(dplr_1, x_k) + b_bar * u_k\n",
    "        y_k = c.H @ x_k\n",
    "\n",
    "        return x_k, y_k\n",
    "\n",
    "    recurrence = []\n",
    "    x_k = x_0\n",
    "    for i in range(u.shape[0]):\n",
    "        x_k, y_k = step(x_k, u[i])\n",
    "        recurrence.append(y_k)\n",
    "    return x_k, torch.tensor(recurrence)"
   ]
  },
  {
   "cell_type": "markdown",
   "metadata": {},
   "source": [
    "We can do a big check, to see if everything is coherent."
   ]
  },
  {
   "cell_type": "code",
   "execution_count": 43,
   "metadata": {},
   "outputs": [],
   "source": [
    "def test_conversion(N=8, L=16):\n",
    "    V, Lambda, p, b = hippo_matrices_dplr(N)\n",
    "\n",
    "    # Compute A in closed form\n",
    "    A = torch.diag(Lambda) - p @ p.H\n",
    "    c_base = torch.randn(N, 1)\n",
    "\n",
    "    # Change the basis of c.\n",
    "    c = V.H @ c_base.type(torch.complex64)\n",
    "    A_bar, b_bar = discretize(A, b)\n",
    "    c_tilde = compute_c_tilde(A_bar, c, L)\n",
    "\n",
    "    # CNN form.\n",
    "    K = kernel_dplr(Lambda, p, b, c_tilde, L)\n",
    "\n",
    "    # Simple RNN form.\n",
    "    K_simple = kernel_simple(A_bar, b_bar, c, L=L)\n",
    "    assert torch.allclose(K, K_simple, atol=1e-4)\n",
    "\n",
    "    # New RNN form\n",
    "    A_bar_new, b_bar_new = discrete_dplr(Lambda, p, b)\n",
    "    K_rnn = kernel_simple(A_bar, b_bar, c, L=L)\n",
    "    assert torch.allclose(K_simple, K_rnn, atol=1e-4)\n",
    "\n",
    "    # Apply CNN\n",
    "    u = torch.arange(L).type(torch.complex64)\n",
    "    y_1 = causal_convolution(u, K)\n",
    "\n",
    "    # Apply RNN\n",
    "    _, y_2 = scan_ssm(\n",
    "        A_bar, b_bar, c, u[:, None], torch.zeros((N,)).type(torch.complex64)\n",
    "    )\n",
    "    assert torch.allclose(y_1, y_2.reshape(-1), atol=1e-4, rtol=1e-4)\n",
    "\n",
    "    # Optimized RNN form\n",
    "    dplr_0, dplr_1, b_bar_opti = discrete_dplr_opti(Lambda, p, b)\n",
    "\n",
    "    assert torch.allclose(b_bar, b_bar_opti)\n",
    "\n",
    "    _, y_2_opti = scan_ssm_opti(\n",
    "        dplr_0,\n",
    "        dplr_1,\n",
    "        b_bar_opti,\n",
    "        c,\n",
    "        u[:, None],\n",
    "        torch.zeros((N, 1)).type(torch.complex64),\n",
    "    )\n",
    "    assert torch.allclose(y_1, y_2_opti.reshape(-1), atol=1e-4, rtol=1e-4)"
   ]
  },
  {
   "cell_type": "code",
   "execution_count": 44,
   "metadata": {},
   "outputs": [],
   "source": [
    "test_conversion()"
   ]
  },
  {
   "cell_type": "markdown",
   "metadata": {
    "tags": []
   },
   "source": [
    "## Multi dimensional recurrent decoding\n",
    "We are almost done. We now need to adapt it to handle multidimensional inputs, as well as a batch dimension"
   ]
  },
  {
   "cell_type": "code",
   "execution_count": 45,
   "metadata": {},
   "outputs": [],
   "source": [
    "def discrete_dplr_opti_multi(Lambda, p, b, step=1):\n",
    "    \"\"\"DPLR of A_0 and A_1 with multidimensionnal data.\"\"\"\n",
    "\n",
    "    # Lambda (H, N)\n",
    "    # p, b (H, N)\n",
    "    Lambda_0 = 2.0 / step + Lambda\n",
    "    p_0 = p\n",
    "    q_0 = p\n",
    "\n",
    "    Lambda_1 = 1.0 / ((2.0 / step) - Lambda)\n",
    "    p_1 = (\n",
    "        Lambda_1\n",
    "        * p\n",
    "        * 1.0\n",
    "        / (1.0 + (p.conj() * Lambda_1 * p).sum(axis=-1, keepdim=True))\n",
    "    )\n",
    "    q_1 = Lambda_1.conj() * p\n",
    "\n",
    "    b_bar = 2 * (Lambda_1 * b - p_1 * (q_1.conj() * b).sum(axis=-1, keepdim=True))\n",
    "\n",
    "    return (Lambda_0, p_0, q_0), (Lambda_1, p_1, q_1), b_bar\n",
    "\n",
    "\n",
    "def dplr_vector_product_multi(dplr, x):\n",
    "    # x (B, H, N)\n",
    "    # Lambda (H, N)\n",
    "    # p, q (H, N)\n",
    "\n",
    "    Lambda, p, q = dplr\n",
    "    diagonal_prod = Lambda[None, :, :] * x\n",
    "    lr_prod = p[None, :, :] * (q[None, :, :].conj() * x).sum(axis=2, keepdims=True)\n",
    "\n",
    "    return diagonal_prod - lr_prod\n",
    "\n",
    "\n",
    "def dplr_vector_prod_multi_simple(dplr, x):\n",
    "    \"\"\"Naive version of dplr matrix-vector product.\"\"\"\n",
    "    out = torch.zeros_like(x)\n",
    "    Lambda, p, q = dplr\n",
    "    for i in range(x.shape[0]):\n",
    "        for h in range(x.shape[1]):\n",
    "            prod = dplr_vector_product(\n",
    "                (Lambda[h][:, None], p[h][:, None], q[h][:, None]), x[i, h][:, None]\n",
    "            ).view(-1)\n",
    "            out[i, h] = prod\n",
    "    return out"
   ]
  },
  {
   "cell_type": "code",
   "execution_count": 46,
   "metadata": {},
   "outputs": [],
   "source": [
    "def make_dplr_random_multi(H, N):\n",
    "    \"\"\"Returns a dplr represented by a three vectors.\"\"\"\n",
    "    Lambda = torch.randn(H, N, dtype=torch.complex64)\n",
    "    p = torch.randn(H, N, dtype=torch.complex64)\n",
    "    q = torch.randn(H, N, dtype=torch.complex64)\n",
    "    return Lambda, p, q"
   ]
  },
  {
   "cell_type": "code",
   "execution_count": 47,
   "metadata": {},
   "outputs": [],
   "source": [
    "H = 3\n",
    "N = 5\n",
    "x = torch.randn(8, H, N, dtype=torch.complex64)\n",
    "Lambda, p, q = make_dplr_random_multi(H, N)\n",
    "dplr = Lambda, p, q"
   ]
  },
  {
   "cell_type": "markdown",
   "metadata": {},
   "source": [
    "Check if our vectorized dplr matrix vector product works."
   ]
  },
  {
   "cell_type": "code",
   "execution_count": 48,
   "metadata": {},
   "outputs": [],
   "source": [
    "dplr_prod = dplr_vector_product_multi(dplr, x)\n",
    "dplr_prod_simple = dplr_vector_prod_multi_simple(dplr, x)\n",
    "\n",
    "assert torch.allclose(dplr_prod, dplr_prod_simple, atol=1e-4)"
   ]
  },
  {
   "cell_type": "code",
   "execution_count": 49,
   "metadata": {},
   "outputs": [],
   "source": [
    "def scan_ssm_opti_multi(dplr_0, dplr_1, b_bar, c, u, x_0):\n",
    "    # b_bar (H, N)\n",
    "    # c (H, N)\n",
    "    # u (B, H, L)\n",
    "    # x_0 (B, H, N)\n",
    "\n",
    "    def step(x_k_1, u_k):\n",
    "        x_k = dplr_vector_product_multi(dplr_0, x_k_1)\n",
    "\n",
    "        x_k = (\n",
    "            dplr_vector_product_multi(dplr_1, x_k) + b_bar[None, :, :] * u_k[:, :, None]\n",
    "        )\n",
    "        y_k = (c[None, :, :].conj() * x_k).sum(axis=-1, keepdim=True)\n",
    "\n",
    "        return x_k, y_k\n",
    "\n",
    "    recurrence = []\n",
    "    x_k = x_0\n",
    "    for i in range(u.shape[-1]):\n",
    "        x_k, y_k = step(x_k, u[:, :, i])\n",
    "        recurrence.append(y_k)\n",
    "\n",
    "    return x_k, torch.cat(recurrence, axis=-1)"
   ]
  },
  {
   "cell_type": "code",
   "execution_count": 50,
   "metadata": {},
   "outputs": [],
   "source": [
    "def scan_ssm_opti_multi_simple(dplr_0, dplr_1, b_bar, c, u, x_0):\n",
    "    \"\"\"Naive version of scan ssm multi.\"\"\"\n",
    "    Lambda_0, p_0, q_0 = dplr_0\n",
    "    Lambda_1, p_1, q_1 = dplr_1\n",
    "\n",
    "    batch_size = u.shape[0]\n",
    "    hidden_size = u.shape[1]\n",
    "\n",
    "    out = torch.zeros_like(u)\n",
    "    for i in range(batch_size):\n",
    "        for h in range(hidden_size):\n",
    "            dplr_h_0 = Lambda_0[h][:, None], p_0[h][:, None], q_0[h][:, None]\n",
    "            dplr_h_1 = Lambda_1[h][:, None], p_1[h][:, None], q_1[h][:, None]\n",
    "            out[i, h] = scan_ssm_opti(\n",
    "                dplr_h_0,\n",
    "                dplr_h_1,\n",
    "                b_bar[h][:, None],\n",
    "                c[h][:, None],\n",
    "                u[i, h][:, None],\n",
    "                x_0[i, h][:, None],\n",
    "            )[-1]\n",
    "    return None, out"
   ]
  },
  {
   "cell_type": "code",
   "execution_count": 51,
   "metadata": {},
   "outputs": [],
   "source": [
    "H = 5\n",
    "N = 10\n",
    "B = 4\n",
    "L = 3\n",
    "dplr_0 = make_dplr_random_multi(H, N)\n",
    "dplr_1 = make_dplr_random_multi(H, N)\n",
    "x_0 = torch.zeros(B, H, N, dtype=torch.complex64)\n",
    "u = torch.randn(B, H, L, dtype=torch.complex64)\n",
    "b_bar = torch.randn(H, N, dtype=torch.complex64)\n",
    "c = torch.randn(H, N, dtype=torch.complex64)\n",
    "\n",
    "_, scan_simple = scan_ssm_opti_multi_simple(dplr_0, dplr_1, b_bar, c, u, x_0)\n",
    "_, scan = scan_ssm_opti_multi(dplr_0, dplr_1, b_bar, c, u, x_0)\n",
    "\n",
    "assert torch.allclose(scan, scan_simple, atol=1e-4)"
   ]
  },
  {
   "cell_type": "code",
   "execution_count": 52,
   "metadata": {},
   "outputs": [],
   "source": [
    "def test_conversion_multi(B=4, H=10, N=8, L=5):\n",
    "    V, Lambda, p, b = hippo_matrices_dplr(N)\n",
    "\n",
    "    # Compute A in closed form.\n",
    "    A = torch.diag(Lambda) - p @ p.H\n",
    "\n",
    "    # Make H copies of A, p, b, Lambda.\n",
    "    A = A.expand(H, N, N).clone()\n",
    "    p = p.squeeze().expand(H, N).clone()\n",
    "    b = b.squeeze().expand(H, N).clone()\n",
    "    Lambda = Lambda.squeeze().expand(H, N).clone()\n",
    "\n",
    "    # Initialize H c.\n",
    "    c_base = torch.randn(H, N)\n",
    "\n",
    "    # Change the basis of c.\n",
    "    c = V.H @ c_base[:, :, None].type(torch.complex64)\n",
    "    c = c.view(H, N)\n",
    "\n",
    "    # Get A_bar (needed for c_tilde).\n",
    "    A_bar, b_bar = discretize_multi(A, b)\n",
    "\n",
    "    # Compute c_tilde\n",
    "    c_tilde = compute_c_tilde_multi(A_bar, c, L)\n",
    "\n",
    "    # CNN form. Check again if our vectorized computations give the same result as a naive one.\n",
    "    K = kernel_dplr_multi(Lambda, p, b, c_tilde, L)\n",
    "    K_simple = kernel_dplr_multi_simple(\n",
    "        Lambda, p[:, :, None], b[:, :, None], c_tilde[:, :, None], L\n",
    "    )\n",
    "\n",
    "    assert torch.allclose(K, K_simple, atol=1e-4)\n",
    "\n",
    "    # Create an input signal with a batch size, a hidden size and a sequence length.\n",
    "\n",
    "    u = torch.randn(B, H, L).type(torch.complex64)\n",
    "\n",
    "    # Apply CNN\n",
    "    y_cnn = causal_convolution_multi(u, K)\n",
    "\n",
    "    # Apply RNN\n",
    "    # Optimized RNN form\n",
    "    dplr_0, dplr_1, b_bar_opti = discrete_dplr_opti_multi(Lambda, p, b)\n",
    "\n",
    "    # Check if we obtain the same b_bar than with the closed form formula.\n",
    "    assert torch.allclose(b_bar, b_bar_opti)\n",
    "\n",
    "    # Apply RNN autoregressively,\n",
    "    _, y_rnn = scan_ssm_opti_multi(\n",
    "        dplr_0, dplr_1, b_bar_opti, c, u, torch.zeros((H, N)).type(torch.complex64)\n",
    "    )\n",
    "\n",
    "    # Compare with CNN output.\n",
    "    assert torch.allclose(y_cnn, y_rnn, atol=1e-4, rtol=1e-4)"
   ]
  },
  {
   "cell_type": "code",
   "execution_count": 53,
   "metadata": {},
   "outputs": [],
   "source": [
    "test_conversion_multi()"
   ]
  },
  {
   "cell_type": "markdown",
   "metadata": {},
   "source": [
    "Done! We now have everything to implement our model within a Pytorch module. We remind here the the initialization steps.\n",
    "As well as the functions we will need in our final implementation.\n",
    "\n",
    "# Full  layer\n",
    "- Create $\\bA, \\bp$ and $\\bb$ with their closed form expressions.\n",
    "- Instead of optimizing $\\bc$ we are going to optimize $\\ctilde$ which is in fact the only part where $\\bc$ is used. It will help reducing the number of operations and especially avoid exponentiating $\\bA$ (this is however a bit incorrect because we are losing the property that the output is real, but we can hope the neural network will learn a 'good' $\\ctilde$ which in the end has this property).\n",
    "- Initialize $\\ctilde$ at random.\n",
    "- Extract $\\bS$ from $\\bA$ and compute its eigenbasis.\n",
    "- Change the basis of $\\bp, \\bb$.\n",
    "- Initialize at $\\bD$ random that we are going to use as a \"skip connection\".\n",
    "\n",
    "In addition to the base model we used until now, we are going to introduce a \"skip-connection\" that is actually part of the rigorous definition of state-space models:\n",
    "\n",
    "\n",
    "$y_k = \\bc x_k + \\bD_k u_k$, where $\\bD \\in \\RR^L$ (or $\\in \\RR^{HL}$).\n",
    "- Initialize $\\bD$ at random that we are going to use as a \"skip connection\".\n",
    "\n",
    "From now all our vectors are going to be complex.\n",
    "\n",
    "Let's write that in Python.\n"
   ]
  },
  {
   "cell_type": "code",
   "execution_count": 54,
   "metadata": {},
   "outputs": [],
   "source": [
    "def clone_tensor(x, expand_size):\n",
    "    clone = x.detach().expand(expand_size, *x.shape).clone()\n",
    "\n",
    "    clone.requires_grad_()\n",
    "    return clone"
   ]
  },
  {
   "cell_type": "code",
   "execution_count": 55,
   "metadata": {},
   "outputs": [],
   "source": [
    "def causal_convolution_multi(u, K):\n",
    "    fft_shape = u.shape[2] + K.shape[1]\n",
    "    u_fft = torch.fft.fft(u, n=fft_shape, axis=-1)\n",
    "    K_fft = torch.fft.fft(K, n=fft_shape, axis=-1)\n",
    "    out = u_fft * K_fft\n",
    "    return torch.fft.ifft(out, axis=-1)[:, :, : u.shape[2]]\n",
    "\n",
    "\n",
    "def discretize_multi(A, b, step=1):\n",
    "    I = torch.eye(A.shape[1]).to(A.device)\n",
    "    left_term = torch.linalg.inv(I[None, :, :] - (step / 2.0) * A)\n",
    "    A_bar = left_term @ (I + (step / 2.0) * A)\n",
    "    b_bar = (left_term * step) @ b[:, :, None]\n",
    "    return A_bar, b_bar.reshape(b.shape[0], -1)\n",
    "\n",
    "\n",
    "def compute_c_multi(A, c_tilde, L):\n",
    "    correction = torch.eye(A.shape[1]).to(A.device)[None, :, :] - A.matrix_power(L)\n",
    "\n",
    "    c = torch.linalg.inv(correction.mH) @ c_tilde[:, :, None]\n",
    "    return c.view(c.shape[0], -1)"
   ]
  },
  {
   "cell_type": "code",
   "execution_count": 56,
   "metadata": {},
   "outputs": [],
   "source": [
    "def scan_ssm_opti_multi(dplr_0, dplr_1, b_bar, c, u, x_0):\n",
    "    # b_bar (H, N)\n",
    "    # c (H, N)\n",
    "    # u (B, H, L)\n",
    "    # x_0 (B, H, N)\n",
    "\n",
    "    def step(x_k_1, u_k):\n",
    "        x_k = dplr_vector_product_multi(dplr_0, x_k_1)\n",
    "\n",
    "        x_k = (\n",
    "            dplr_vector_product_multi(dplr_1, x_k) + b_bar[None, :, :] * u_k[:, :, None]\n",
    "        )\n",
    "        y_k = (c[None, :, :].conj() * x_k).sum(axis=-1, keepdim=True)\n",
    "\n",
    "        return x_k, y_k\n",
    "\n",
    "    recurrence = []\n",
    "    x_k = x_0\n",
    "    for i in range(u.shape[-1]):\n",
    "        x_k, y_k = step(x_k, u[:, :, i])\n",
    "        recurrence.append(y_k)\n",
    "\n",
    "    return x_k, torch.cat(recurrence, axis=-1)"
   ]
  },
  {
   "cell_type": "code",
   "execution_count": 57,
   "metadata": {},
   "outputs": [],
   "source": [
    "class S4Layer(nn.Module):\n",
    "    def __init__(\n",
    "        self,\n",
    "        state_size=256,\n",
    "        embedding_size=128,\n",
    "        sequence_length=512,\n",
    "        ffn_size=4096,\n",
    "        frozen=False,\n",
    "        init_std=0.02,\n",
    "        dropout=0.1,\n",
    "        decode=False,\n",
    "    ):\n",
    "        super().__init__()\n",
    "        self.state_size = state_size\n",
    "        self.embedding_size = embedding_size\n",
    "        self.frozen = frozen\n",
    "        self.decode = decode\n",
    "        self.sequence_length = sequence_length\n",
    "        self.dropout = dropout\n",
    "        self.activation = nn.GELU()\n",
    "\n",
    "        # Layer normalisation.\n",
    "        self.norm = nn.LayerNorm(embedding_size)\n",
    "\n",
    "        V, Lambda, p, b = hippo_matrices_dplr(self.state_size)\n",
    "\n",
    "        Lambda = clone_tensor(Lambda.view(-1), embedding_size)\n",
    "        p = clone_tensor(p.view(-1), embedding_size)\n",
    "        b = clone_tensor(b.view(-1), embedding_size)\n",
    "\n",
    "        self.Lambda = nn.Parameter(Lambda)\n",
    "        self.p = nn.Parameter(p)\n",
    "        self.b = nn.Parameter(b)\n",
    "\n",
    "        self.c_tilde = nn.Parameter(\n",
    "            init_std * torch.randn(embedding_size, state_size, dtype=torch.complex64)\n",
    "        )\n",
    "        self.D = nn.Parameter(\n",
    "            init_std * torch.randn(1, embedding_size, sequence_length)\n",
    "        )\n",
    "\n",
    "        self.fc1 = nn.Linear(embedding_size, ffn_size)\n",
    "        self.fc2 = nn.Linear(ffn_size, embedding_size)\n",
    "\n",
    "    def cauchy_multi(self, p, q, Lambda, omega_L):\n",
    "        \"\"\"Multidimensionnal Cauchy product. Basically we are just using broadcasting to generalize above function.\"\"\"\n",
    "        # p, q, Lambd (H, N)\n",
    "        # omega_L (L,)\n",
    "        omega_L = 2.0 * ((1.0 - omega_L) / (1 + omega_L))\n",
    "        dot_product = p.conj() * q\n",
    "\n",
    "        Lambda = Lambda[:, :, None]\n",
    "        omega_L = omega_L[None, None, :]\n",
    "        cauchy_product = dot_product[:, :, None] / (omega_L - Lambda)\n",
    "        return cauchy_product.sum(axis=-2)\n",
    "\n",
    "    def kernel_dplr_multi(self, Lambda, p, b, c_tilde, L):\n",
    "        omega_L = torch.exp((-2j * torch.pi) * torch.arange(L) / L).to(Lambda.device)\n",
    "        term_1 = self.cauchy_multi(c_tilde, b, Lambda, omega_L)\n",
    "        term_2 = self.cauchy_multi(c_tilde, p, Lambda, omega_L)\n",
    "        term_3 = 1.0 / (1.0 + self.cauchy_multi(p, p, Lambda, omega_L))\n",
    "        term_4 = self.cauchy_multi(p, b, Lambda, omega_L)\n",
    "\n",
    "        K_fft = (2.0 / (1.0 + omega_L[None, :])) * (term_1 - term_2 * term_3 * term_4)\n",
    "        return torch.fft.ifft(K_fft, L)\n",
    "\n",
    "    def set_decoding_mode(self):\n",
    "        \"\"\"When using recurrent decoding mode one needs to define carefully the parameters we are going to use.\"\"\"\n",
    "\n",
    "        self.decode = True\n",
    "\n",
    "        # DPLR decomposition for efficient recurrence.\n",
    "        dplr_0, dplr_1, b_bar = discrete_dplr_opti_multi(self.Lambda, self.p, self.b)\n",
    "        self.dplr_0 = dplr_0\n",
    "        self.dplr_1 = dplr_1\n",
    "        self.b_bar = b_bar\n",
    "\n",
    "        # Compute A\n",
    "        I = torch.eye(self.state_size, dtype=torch.complex64).to(self.b.device)\n",
    "        I = I[None, :, :]\n",
    "        diag_part = self.Lambda[:, :, None] * I\n",
    "        pp = self.p[:, :, None] @ self.p[:, :, None].mH\n",
    "        A = diag_part - pp\n",
    "\n",
    "        # Discretize A\n",
    "        A_bar, b_bar_discrete = discretize_multi(A, self.b)\n",
    "\n",
    "        # Compute back c from c_tilde (remember that we learn c_tilde instead of c).\n",
    "        c = compute_c_multi(A_bar, self.c_tilde, L)\n",
    "        self.c = c\n",
    "\n",
    "        # Initial state.\n",
    "        self.x_k = torch.zeros(\n",
    "            self.embedding_size, self.state_size, dtype=torch.complex64\n",
    "        ).to(self.b.device)\n",
    "\n",
    "    def forward(self, u, attention_mask=None):\n",
    "\n",
    "        if self.decode:\n",
    "            x_k, out = scan_ssm_opti_multi(\n",
    "                self.dplr_0, self.dplr_1, self.b_bar, self.c, u, self.x_k\n",
    "            )\n",
    "            self.x_k = x_k\n",
    "\n",
    "            # We take the real part for simplicity because all Pytorch modules doesn't support complex inputs.\n",
    "            # We can imagine a setup where one sticks with complex numbers but in this case we have to manually write the layers.\n",
    "            out = out.real\n",
    "            # Transpose to (B, L, H) because Pytorch Linear operates on the last dimension of tensors.\n",
    "            out_transposed = out.transpose(-1, -2)\n",
    "            residual = out_transposed\n",
    "\n",
    "            out_transposed = self.activation(self.fc1(out_transposed))\n",
    "            out_transposed = F.dropout(\n",
    "                out_transposed, p=self.dropout, training=self.training\n",
    "            )\n",
    "            out_transposed = self.activation(self.fc2(out_transposed))\n",
    "            out_transposed = F.dropout(\n",
    "                out_transposed, p=self.dropout, training=self.training\n",
    "            )\n",
    "            # Layer normalization\n",
    "            out_transposed = self.norm(out_transposed + residual)\n",
    "\n",
    "            # Transpose back to (B, H, L)\n",
    "            out = out_transposed.transpose(-1, -2)\n",
    "            return out + self.D * u\n",
    "\n",
    "        else:\n",
    "            K = self.kernel_dplr_multi(\n",
    "                self.Lambda, self.p, self.b, self.c_tilde, self.sequence_length\n",
    "            )\n",
    "\n",
    "            # We take the real part for simplicity because all Pytorch modules doesn't support complex inputs.\n",
    "            # We can imagine a setup where one sticks with complex numbers but in this case we have to manually write the layers.\n",
    "            out = causal_convolution_multi(u, K).real\n",
    "\n",
    "            # Transpose to (B, L, H) because Pytorch Linear operates on the last dimension of tensors.\n",
    "            out_transposed = out.transpose(-1, -2)\n",
    "            residual = out_transposed\n",
    "\n",
    "            out_transposed = self.activation(self.fc1(out_transposed))\n",
    "            out_transposed = F.dropout(\n",
    "                out_transposed, p=self.dropout, training=self.training\n",
    "            )\n",
    "            out_transposed = self.activation(self.fc2(out_transposed))\n",
    "            out_transposed = F.dropout(\n",
    "                out_transposed, p=self.dropout, training=self.training\n",
    "            )\n",
    "            # Layer normalization\n",
    "            out_transposed = self.norm(out_transposed + residual)\n",
    "\n",
    "            # Transpose back to (B, H, L)\n",
    "            out = out_transposed.transpose(-1, -2)\n",
    "            return out + self.D * u\n",
    "\n",
    "\n",
    "class S4Model(nn.Module):\n",
    "    def __init__(\n",
    "        self,\n",
    "        n_layers=12,\n",
    "        state_size=256,\n",
    "        embedding_size=128,\n",
    "        sequence_length=512,\n",
    "        ffn_size=3072,\n",
    "        frozen=False,\n",
    "        init_std=0.02,\n",
    "        dropout=0.1,\n",
    "        decode=False,\n",
    "    ):\n",
    "        super().__init__()\n",
    "        self.layers = nn.ModuleList(\n",
    "            [\n",
    "                S4Layer(\n",
    "                    state_size,\n",
    "                    embedding_size,\n",
    "                    sequence_length=sequence_length,\n",
    "                    ffn_size=ffn_size,\n",
    "                    dropout=dropout,\n",
    "                    frozen=frozen,\n",
    "                    init_std=init_std,\n",
    "                    decode=decode,\n",
    "                )\n",
    "                for _ in range(n_layers)\n",
    "            ]\n",
    "        )\n",
    "\n",
    "    def set_decoding_mode(self):\n",
    "        for layer in self.layers:\n",
    "            layer.set_decoding_mode()\n",
    "\n",
    "    def forward(self, u):\n",
    "        hidden_states = u\n",
    "        for idx, s4_layer in enumerate(self.layers):\n",
    "            hidden_states = s4_layer(hidden_states)\n",
    "        return hidden_states"
   ]
  },
  {
   "cell_type": "markdown",
   "metadata": {},
   "source": [
    "Let's test our final model. We modified a little bit the functions to use GPU."
   ]
  },
  {
   "cell_type": "code",
   "execution_count": 58,
   "metadata": {},
   "outputs": [],
   "source": [
    "device = \"cuda\" if torch.cuda.is_available() else \"cpu\""
   ]
  },
  {
   "cell_type": "code",
   "execution_count": 59,
   "metadata": {},
   "outputs": [
    {
     "data": {
      "text/plain": [
       "S4Layer(\n",
       "  (activation): GELU()\n",
       "  (norm): LayerNorm((2,), eps=1e-05, elementwise_affine=True)\n",
       "  (fc1): Linear(in_features=2, out_features=4096, bias=True)\n",
       "  (fc2): Linear(in_features=4096, out_features=2, bias=True)\n",
       ")"
      ]
     },
     "execution_count": 59,
     "metadata": {},
     "output_type": "execute_result"
    }
   ],
   "source": [
    "L = 10\n",
    "H = 2\n",
    "N = 3\n",
    "s4 = S4Layer(state_size=N, embedding_size=H, sequence_length=L)\n",
    "s4.to(device).eval()"
   ]
  },
  {
   "cell_type": "code",
   "execution_count": 60,
   "metadata": {},
   "outputs": [],
   "source": [
    "u = torch.randn(4, H, L).to(device)\n",
    "y_conv = s4(u)"
   ]
  },
  {
   "cell_type": "code",
   "execution_count": 61,
   "metadata": {},
   "outputs": [],
   "source": [
    "# Use recurrent decoding\n",
    "s4.set_decoding_mode()"
   ]
  },
  {
   "cell_type": "code",
   "execution_count": 62,
   "metadata": {},
   "outputs": [],
   "source": [
    "y_recurrent = s4(u)"
   ]
  },
  {
   "cell_type": "code",
   "execution_count": 63,
   "metadata": {},
   "outputs": [],
   "source": [
    "assert torch.allclose(y_conv, y_recurrent, atol=1e-4)"
   ]
  }
 ],
 "metadata": {
  "kernelspec": {
   "display_name": "env-s4",
   "language": "python",
   "name": "env-s4"
  },
  "language_info": {
   "codemirror_mode": {
    "name": "ipython",
    "version": 3
   },
   "file_extension": ".py",
   "mimetype": "text/x-python",
   "name": "python",
   "nbconvert_exporter": "python",
   "pygments_lexer": "ipython3",
   "version": "3.10.4"
  },
  "vscode": {
   "interpreter": {
    "hash": "a263f42c39b2fd75b37cb89946a27f6140cd004b337ff228565a862a637fff96"
   }
  }
 },
 "nbformat": 4,
 "nbformat_minor": 4
}
